{
 "cells": [
  {
   "cell_type": "markdown",
   "metadata": {},
   "source": [
    "# Inclusão Financeira na Africa\n",
    "---"
   ]
  },
  {
   "cell_type": "markdown",
   "metadata": {},
   "source": [
    "## IMPORTS"
   ]
  },
  {
   "cell_type": "code",
   "execution_count": 50,
   "metadata": {},
   "outputs": [],
   "source": [
    "import pickle\n",
    "import warnings\n",
    "\n",
    "import numpy                    as np\n",
    "import pandas                   as pd\n",
    "\n",
    "import seaborn                  as sns\n",
    "import matplotlib.pyplot        as plt\n",
    "from dataprep.eda               import create_report, plot_diff\n",
    "\n",
    "from scipy                      import stats     \n",
    "from typing                     import Union\n",
    "from IPython.core.display       import HTML\n",
    "\n",
    "from yellowbrick.features       import Rank1D, Rank2D\n",
    "\n",
    "from boruta                     import BorutaPy\n",
    "from imblearn.combine           import SMOTETomek \n",
    "from imblearn.over_sampling     import SMOTENC\n",
    "\n",
    "from xgboost                    import XGBClassifier\n",
    "from lightgbm                   import LGBMClassifier\n",
    "from catboost                   import CatBoostClassifier\n",
    "\n",
    "import optuna\n",
    "from optuna.integration         import LightGBMPruningCallback\n",
    "\n",
    "from sklearn.feature_selection  import RFE\n",
    "from sklearn.naive_bayes        import GaussianNB\n",
    "from sklearn.metrics            import roc_auc_score, log_loss, precision_score, recall_score, f1_score\n",
    "from sklearn.linear_model       import LogisticRegression\n",
    "from sklearn.neighbors          import KNeighborsClassifier\n",
    "from sklearn.preprocessing      import MinMaxScaler\n",
    "from sklearn.model_selection    import train_test_split, StratifiedKFold\n",
    "from sklearn.ensemble           import RandomForestClassifier, ExtraTreesClassifier, AdaBoostClassifier, GradientBoostingClassifier\n"
   ]
  },
  {
   "cell_type": "markdown",
   "metadata": {},
   "source": [
    "## HELPER FUNCTIONS"
   ]
  },
  {
   "cell_type": "markdown",
   "metadata": {},
   "source": [
    "### Metrics"
   ]
  },
  {
   "cell_type": "code",
   "execution_count": 51,
   "metadata": {},
   "outputs": [],
   "source": [
    "def categorical_metrics(data: Union[int, str], col: str):\n",
    "    \"\"\"\n",
    "    Shows the the absolute and percent values in categorical variables.\n",
    "\n",
    "    Args:\n",
    "        data ([dataframe]): [Insert all categorical attributes in the dataset]\n",
    "\n",
    "    Returns:\n",
    "        [dataframe]: [A dataframe with absolute and percent values]\n",
    "    \"\"\"\n",
    "    \n",
    "    return pd.DataFrame({'absolute': data[col].value_counts(), 'percent %': data[col].value_counts(normalize = True) * 100 })"
   ]
  },
  {
   "cell_type": "code",
   "execution_count": 52,
   "metadata": {},
   "outputs": [],
   "source": [
    "def numerical_metrics(numerical_attributes: Union[int, float]):\n",
    "    \"\"\"Shows the main values ​​for descriptive statistics in numerical variables.\n",
    "\n",
    "    Args:\n",
    "        numerical_attributes ([float64 and int64]): [Insert all numerical attributes in the dataset]\n",
    "\n",
    "    Returns:\n",
    "        [dataframe]: [A dataframe with mean, median, std deviation, skewness, kurtosis, min, max and range]\n",
    "    \"\"\"\n",
    "    \n",
    "    data_mean = pd.DataFrame(numerical_attributes.apply(np.mean)).T\n",
    "    data_median = pd.DataFrame(numerical_attributes.apply(np.median)).T\n",
    "    data_std = pd.DataFrame(numerical_attributes.apply(np.std)).T\n",
    "    data_min = pd.DataFrame(numerical_attributes.apply(min)).T\n",
    "    data_max = pd.DataFrame(numerical_attributes.apply(max)).T\n",
    "    data_range = pd.DataFrame(numerical_attributes.apply(lambda x: x.max() - x.min())).T\n",
    "    data_q1 = pd.DataFrame(numerical_attributes.apply(lambda x: np.quantile(x, .25))).T\n",
    "    data_q3 = pd.DataFrame(numerical_attributes.apply(lambda x: np.quantile(x, .75))).T\n",
    "    data_skew = pd.DataFrame(numerical_attributes.apply(lambda x: x.skew())).T\n",
    "    data_kurtosis = pd.DataFrame(numerical_attributes.apply(lambda x: x.kurtosis())).T\n",
    "\n",
    "    num_attributes = pd.concat([data_min,data_max,data_range,data_mean,data_median, data_q1, data_q3,data_std,data_skew,data_kurtosis]).T.reset_index()\n",
    "    num_attributes.columns = ['Attributes','Min','Max','Range','Mean','Median','Q1','Q3', 'St deviation','Skewness','Kurtosis']\n",
    "\n",
    "    return num_attributes"
   ]
  },
  {
   "cell_type": "markdown",
   "metadata": {},
   "source": [
    "### Plots"
   ]
  },
  {
   "cell_type": "code",
   "execution_count": 53,
   "metadata": {},
   "outputs": [],
   "source": [
    "def correlation_ascending(data: Union[int, float, str], col: str, method: str):\n",
    "    \"\"\"Generates a correlation matrix of each numerical variables in ascending order.\n",
    "\n",
    "    Args:\n",
    "        data ([dataFrame]): [The dataframe of the EDA]\n",
    "        col ([object]): [The column selected]\n",
    "        method ([string]): [The method used, it can be ‘pearson’, ‘kendall’ or ‘spearman’]\n",
    "\n",
    "    Returns:\n",
    "        [Image]: [The correlation matrix plot made with seaborn]\n",
    "    \"\"\"\n",
    "\n",
    "    # correlation\n",
    "    num_attributes = data.select_dtypes(include = ['int64', 'float64'])\n",
    "    correlation = num_attributes.corr(method = method)\n",
    "\n",
    "    correlation_asc = correlation[col].sort_values(ascending=False).to_frame()\n",
    "    correlation_asc.columns = ['']\n",
    "    correlation_asc.drop(col, axis=0, inplace=True)\n",
    "    plot = sns.heatmap( correlation_asc, annot=True, cmap='rocket').set_title(col);\n",
    "    \n",
    "    return plot"
   ]
  },
  {
   "cell_type": "code",
   "execution_count": 54,
   "metadata": {},
   "outputs": [],
   "source": [
    "def correlation_matrix(data: Union[int, float], cols_drop: str, method: str):\n",
    "    \"\"\"Generates a correlation matrix of numerical variables\n",
    "\n",
    "    Args:\n",
    "        data ([DataFrame]): [The dataframe of the EDA]\n",
    "        cols_drop ([list]): [Cols to drop]\n",
    "        method ([string]): [The method used, it can be ‘pearson’, ‘kendall’ or ‘spearman’]\n",
    "\n",
    "    Returns:\n",
    "        [Image]: [The correlation matrix plot made with seaborn]\n",
    "    \"\"\"\n",
    "    \n",
    "    # correlation\n",
    "    num_attributes = data.select_dtypes(include = ['int64', 'float64'])\n",
    "    num_attributes = num_attributes.drop(columns = cols_drop )\n",
    "    correlation = num_attributes.corr(method = method)\n",
    "\n",
    "    # plot\n",
    "    ax = sns.heatmap(correlation, fmt = '.2f', vmin = -1, vmax = 1, annot = True, cmap = 'magma', square = True)\n",
    "\n",
    "    return ax"
   ]
  },
  {
   "cell_type": "code",
   "execution_count": 55,
   "metadata": {},
   "outputs": [],
   "source": [
    "def cramers_v(categorical_attributes: Union[str, int]):\n",
    "    \"\"\"Calculates Cramer's V\n",
    "\n",
    "    Args:\n",
    "        categorical_attributes ([DataFrame]): [The dataframe with all categorical features]\n",
    "\n",
    "\n",
    "    Returns:\n",
    "        [Dict]: [Dictionary with cramer's V]\n",
    "    \"\"\"\n",
    "\n",
    "    cat_attributes_list = categorical_attributes.columns.tolist()\n",
    "\n",
    "    corr_dict={}\n",
    "\n",
    "    for i in range(len(cat_attributes_list)):\n",
    "        corr_list=[]\n",
    "        for j in range(len(cat_attributes_list)):\n",
    "            ref=cat_attributes_list[i]\n",
    "            feat=cat_attributes_list[j]\n",
    "            cm = pd.crosstab(categorical_attributes[ref], categorical_attributes[feat]).to_numpy()\n",
    "            n = cm.sum()\n",
    "            r, k = cm.shape\n",
    "            chi2 = stats.chi2_contingency(cm)[0]\n",
    "            chi2corr = max(0, chi2 - (k-1)*(r-1)/(n-1))\n",
    "            kcorr = k - (k-1)**2/(n-1)\n",
    "            rcorr = r - (r-1)**2/(n-1)\n",
    "            corr = np.sqrt((chi2corr/n) / (min(kcorr-1, rcorr-1)))\n",
    "            corr_list.append(corr)\n",
    "        \n",
    "        corr_dict[ref]= corr_list\n",
    "    \n",
    "    return corr_dict"
   ]
  },
  {
   "cell_type": "code",
   "execution_count": 56,
   "metadata": {},
   "outputs": [],
   "source": [
    "def highlight_max(s):\n",
    "    # Only apply highlight in int and float\n",
    "    if s.dtype == np.object:\n",
    "        is_max = [False for _ in range(s.shape[0])]\n",
    "    else:\n",
    "        is_max = s == s.max()\n",
    "    return ['background: #F15854' if cell else '' for cell in is_max]"
   ]
  },
  {
   "cell_type": "code",
   "execution_count": 57,
   "metadata": {},
   "outputs": [
    {
     "name": "stdout",
     "output_type": "stream",
     "text": [
      "%pylab is deprecated, use %matplotlib inline and import the required libraries.\n",
      "Populating the interactive namespace from numpy and matplotlib\n"
     ]
    },
    {
     "data": {
      "text/html": [
       "<style>.container { width:100% !important; }</style>"
      ],
      "text/plain": [
       "<IPython.core.display.HTML object>"
      ]
     },
     "metadata": {},
     "output_type": "display_data"
    }
   ],
   "source": [
    "def jupyter_settings():\n",
    "    %matplotlib inline\n",
    "    %pylab inline\n",
    "    plt.style.use('tableau-colorblind10')\n",
    "    plt.rcParams['figure.figsize'] = [25, 12]\n",
    "    plt.rcParams['font.size'] = 24\n",
    "    display(HTML('<style>.container { width:100% !important; }</style>'))\n",
    "    pd.options.display.max_columns = None\n",
    "    pd.options.display.max_rows = None\n",
    "    pd.set_option('display.expand_frame_repr', False)\n",
    "    sns.set()\n",
    "\n",
    "jupyter_settings()"
   ]
  },
  {
   "cell_type": "code",
   "execution_count": 58,
   "metadata": {},
   "outputs": [],
   "source": [
    "def multiple_histplots(data: Union[int, float, str], rows: int, cols: int):\n",
    "    \"\"\"\n",
    "    Shows a matrix with hisplots of selected features.\n",
    "\n",
    "    Args:\n",
    "        data ([dataframe]): [Insert all categorical attributes in the dataset]\n",
    "        rows ([int]): [Insert the number of rows of the subplot]\n",
    "        cols ([int]): [Insert the number of columns of the subplot]\n",
    "\n",
    "    Returns:\n",
    "        [Image]: [A matrix plot with histplots]\n",
    "    \"\"\"\n",
    "\n",
    "    for i, col in enumerate(data.columns, 1):\n",
    "        plt.subplot(rows, cols, i)\n",
    "        ax = sns.histplot(data[col], kde = True)\n",
    "        plt.ylabel('')\n",
    "        plt.style.use('tableau-colorblind10')\n",
    "\n",
    "    return ax"
   ]
  },
  {
   "cell_type": "code",
   "execution_count": 59,
   "metadata": {},
   "outputs": [],
   "source": [
    "def percentage(ax,data: Union[str, int, float]):\n",
    "    \"\"\"Shows percentage in countplots\n",
    "\n",
    "    Args:\n",
    "        ax: [Variable name of the plot]\n",
    "        data ([DataFrame]): [Dataframe of the countplot]\n",
    "\n",
    "\n",
    "    Returns:\n",
    "        [Dict]: [Dictionary with cramer's V]\n",
    "    \"\"\"\n",
    "\n",
    "    for p in ax.patches:\n",
    "        height = p.get_height()\n",
    "        len_data = len(data)\n",
    "        ax.text(p.get_x()+p.get_width()/2.,\n",
    "                height,\n",
    "                '{:1.2f}%'.format(height/len_data*100),\n",
    "                ha=\"center\")"
   ]
  },
  {
   "cell_type": "code",
   "execution_count": 60,
   "metadata": {},
   "outputs": [],
   "source": [
    "def plot_with_target(target_x: Union[int, float, str], target_y: Union[int, float, str], col: str, position_x: int, position_y: int, label_x: str, label_y: str):\n",
    "    \"\"\"\n",
    "    Create some histplots with target feature.\n",
    "\n",
    "    Args:\n",
    "        target_x ([dataframe]): [Dataframe with all numerical features and positive target]\n",
    "        target_y ([dataframe]): [Dataframe with all numerical features and negative target]\n",
    "        col ([str]): [Name of the feature of the plot]\n",
    "        position_x ([int]): [Position in the subplot]\n",
    "        position_y ([int]): [Position in the subplot]\n",
    "        label_x ([str]): [Name of the label of negative target]\n",
    "        label_y ([str]): [Name of the label of positive target]\n",
    "\n",
    "    Returns:\n",
    "        [Image]: [Histplots of all features with target]\n",
    "    \"\"\"\n",
    "\n",
    "    plt.style.use('tableau-colorblind10')\n",
    "    ax[position_x, position_y].hist(target_x[col], bins = 50, alpha = 0.5, label = label_x) \n",
    "    ax[position_x, position_y].hist(target_y[col], bins = 50, alpha = 0.7, label = label_y) \n",
    "    ax[position_x, position_y].legend()\n",
    "    ax[position_x, position_y].set_title(col)\n",
    "\n",
    "    return ax"
   ]
  },
  {
   "cell_type": "code",
   "execution_count": 61,
   "metadata": {},
   "outputs": [],
   "source": [
    "def confusion_matrix(model): \n",
    "    \n",
    "    \"\"\"\n",
    "    Creates a confusion matrix plot with churn and not churn using yellowbrick.\n",
    "\n",
    "    Args:\n",
    "        model: [The Machine Learning algorithm utilized]\n",
    "\n",
    "    Returns:\n",
    "        [Image]: [The confusion matrix plot]\n",
    "    \"\"\"\n",
    "\n",
    "\n",
    "    confusion_matrix = ConfusionMatrix(model, classes = ['no', 'yes'], cmap = 'PuBu')\n",
    "    confusion_matrix.fit(X_train, y_train)  \n",
    "    confusion_matrix.score(X_test, y_test)  \n",
    "    ax = confusion_matrix.finalize()\n",
    "\n",
    "    return ax"
   ]
  },
  {
   "cell_type": "markdown",
   "metadata": {},
   "source": [
    "### Models"
   ]
  },
  {
   "cell_type": "code",
   "execution_count": 62,
   "metadata": {},
   "outputs": [],
   "source": [
    "def cross_validation(models, target: str, X_train: Union[int, float, str], y_train: Union[int, float, str], kfold: int = 5, verbose: bool = True):\n",
    "    \"\"\"Return CV result\n",
    "    \n",
    "    Args:\n",
    "        model: [ML model for CV]\n",
    "        target[str]: [Target feature name]\n",
    "        X_train[dataframe]: [Train variables]\n",
    "        y_train[list]: [Target feature list]\n",
    "        kfold[int]: [Number of data splits]\n",
    "        k[int] = [at_k value]\n",
    "        verbose[bool]: [print folding]\n",
    "\n",
    "    Returns:\n",
    "        [DataFrame]: [Dataframe with Precision at K and Recall at K]\n",
    "    \"\"\"\n",
    "    print('Please, wait a moment, Doing CV')\n",
    "    folds = StratifiedKFold(n_splits = kfold, shuffle = True, random_state = 42)\n",
    "    precision_list = []\n",
    "    recall_list = []\n",
    "    f1_list = []\n",
    "    roc_auc_list = []\n",
    "\n",
    "    model_df = []\n",
    "    j = 1\n",
    "    l = len(models)\n",
    "    \n",
    "    for model in models:\n",
    "        model_name = type(model).__name__\n",
    "        if verbose == True:\n",
    "            print(f\"Folding model {j}/{l} -> \" + model_name)\n",
    "\n",
    "        for train_cv, val_cv in folds.split(X_train, y_train):\n",
    "            X_train_fold = X_train.iloc[train_cv]\n",
    "            y_train_fold = y_train.iloc[train_cv]\n",
    "            X_val_fold = X_train.iloc[val_cv]\n",
    "            y_val_fold = y_train.iloc[val_cv]\n",
    "\n",
    "            # fit model\n",
    "            model.fit(X_train_fold, y_train_fold)\n",
    "            \n",
    "            # predict probabilities\n",
    "            yhat = model.predict(X_val_fold)\n",
    "\n",
    "            data = X_val_fold.copy()\n",
    "            data[target] = y_val_fold.copy()\n",
    "            data['score'] = yhat.tolist()\n",
    "            data = data.sort_values('score', ascending = False)\n",
    "\n",
    "            # precision\n",
    "            precision = precision_score(y_val_fold, yhat)\n",
    "            precision_list.append(precision)\n",
    "\n",
    "            # recall\n",
    "            recall = recall_score(y_val_fold, yhat)\n",
    "            recall_list.append(recall)\n",
    "            \n",
    "            # f1           \n",
    "            f1 = f1_score(y_val_fold, yhat)\n",
    "            f1_list.append(f1)\n",
    "            \n",
    "            # roc auc\n",
    "            roc_auc = roc_auc_score(y_val_fold, yhat)\n",
    "            roc_auc_list.append(roc_auc)\n",
    "\n",
    "\n",
    "        df_result = pd.DataFrame({'Model_Name': (model_name),\n",
    "                                  'Precision Mean': np.mean(precision_list).round(3),\n",
    "                                  'Precision STD': np.std(precision_list).round(3),\n",
    "                                  'Recall Mean': np.mean(recall_list).round(3),\n",
    "                                  'Recall STD': np.std(recall_list).round(3),\n",
    "                                  'F1 Mean': np.mean(f1_list).round(3),\n",
    "                                  'F1 STD': np.std(f1_list).round(3),\n",
    "                                  'ROCAUC Mean': np.mean(roc_auc_list).round(3),\n",
    "                                  'ROCAUC STD': np.std(roc_auc_list).round(3)}, index = [0])\n",
    "        \n",
    "        j += 1\n",
    "\n",
    "        model_df.append(df_result)\n",
    "        cv_result = pd.concat(model_df)\n",
    "    print('Finished, check the results')\n",
    "\n",
    "    return cv_result"
   ]
  },
  {
   "cell_type": "code",
   "execution_count": 63,
   "metadata": {},
   "outputs": [],
   "source": [
    "def metrics_result(models, target: str, X_train: Union[int, float, str], y_train: Union[int, float, str], X_val: Union[int, float, str], y_val: Union[int, float, str], verbose = True):\n",
    "    \"\"\"Return Metrics of the model\n",
    "    \n",
    "    Args:\n",
    "        model: [ML model for CV]\n",
    "        target[str]: [Target feature name]\n",
    "        X_train[dataframe]: [Train variables]\n",
    "        y_train[list]: [Target feature list]\n",
    "        X_val[dataframe]: [Validation variables]\n",
    "        y_val[list]: [Target feature list]\n",
    "        k[int] = [at_k value]\n",
    "        verbose[bool]: [print training]\n",
    "\n",
    "    Returns:\n",
    "        [DataFrame]: [Dataframe with Precision at K and Recall at K]\n",
    "    \"\"\"\n",
    "    print('Please, wait a moment - Doing ML')\n",
    "    model_df = []\n",
    "    i = 1\n",
    "    j = len(models)\n",
    "\n",
    "    for model in models:\n",
    "        model_name = type(model).__name__\n",
    "        if verbose == True:\n",
    "            print(f\"Training model {i}/{j} -> \" + model_name)\n",
    "        model.fit(X_train, y_train)\n",
    "\n",
    "        # probabilities prediction\n",
    "        yhat = model.predict(X_val)\n",
    "\n",
    "        # copy data\n",
    "        data = X_val.copy()\n",
    "        data[target] = y_val.copy()\n",
    "\n",
    "        # propensity score\n",
    "        data['score'] = yhat.tolist()\n",
    "\n",
    "        # sort clients by propensity score\n",
    "        data = data.sort_values('score', ascending = False)\n",
    "\n",
    "        # precision\n",
    "        precision = precision_score(y_val, yhat)\n",
    "\n",
    "        # recall\n",
    "        recall = recall_score(y_val, yhat)       \n",
    "        \n",
    "        # f1\n",
    "        f1 = f1_score(y_val, yhat)       \n",
    "\n",
    "        # roc auc\n",
    "        roc_auc = roc_auc_score(y_val, yhat)\n",
    "\n",
    "        i += 1\n",
    "\n",
    "        df_result = pd.DataFrame({'Model_Name': model_name, \n",
    "                                  'Precision': precision,\n",
    "                                  'Recall': recall,\n",
    "                                  'F1 Score': f1,\n",
    "                                  'ROCAUC': roc_auc}, index = [0])\n",
    "\n",
    "        model_df.append(df_result)\n",
    "        final_result = pd.concat(model_df)\n",
    "    print('Finished, check the results')\n",
    "\n",
    "    return final_result"
   ]
  },
  {
   "cell_type": "markdown",
   "metadata": {},
   "source": [
    "### Hyperparameter Fine Tunning"
   ]
  },
  {
   "cell_type": "code",
   "execution_count": 64,
   "metadata": {},
   "outputs": [],
   "source": [
    "def objective_lgbm(trial: int, X, y, splits: int = 5):\n",
    "    \"\"\"Apply parameters for Optuna bayesian search using logloss as metric\n",
    "    Args:\n",
    "        trial[int]: [Number of attempts to find the best result]\n",
    "        X[Dataframe]: [Dataframe with all features except target]\n",
    "        y[List]: [List with the target feature]\n",
    "        splits[int]: [Number of splits for the StratifiedKfold n_splits]\n",
    "\n",
    "    Returns:\n",
    "        [str]: [Results Optuna]\n",
    "    \"\"\"\n",
    "    \n",
    "    param_grid = {\n",
    "        'n_estimators': trial.suggest_int('n_estimators', 300, 2000, step = 100),\n",
    "        'learning_rate': trial.suggest_float('learning_rate', 0.01, 0.3),\n",
    "        'num_leaves': trial.suggest_int('num_leaves', 20, 3000, step = 20),\n",
    "        'max_depth': trial.suggest_int('max_depth', 3, 12),\n",
    "                 }\n",
    "\n",
    "    cv = StratifiedKFold(n_splits = splits, shuffle = True, random_state = 42)\n",
    "\n",
    "    cv_scores = np.empty(5)\n",
    "    for idx, (train_idx, val_idx) in enumerate(cv.split(X, y)):\n",
    "        X_train, X_val = X.iloc[train_idx], X.iloc[val_idx]\n",
    "        \n",
    "        y_train, y_val = y[train_idx], y[val_idx]\n",
    "\n",
    "        model = LGBMClassifier(objective = 'binary', **param_grid)\n",
    "        model.fit(  X_train, y_train, eval_set = [(X_val, y_val)], eval_metric = 'f1',\n",
    "                    early_stopping_rounds = 50, callbacks = [LightGBMPruningCallback(trial, 'binary_logloss')]\n",
    "                 )\n",
    "        preds = model.predict_proba(X_val)\n",
    "        cv_scores[idx] = log_loss(y_val, preds)\n",
    "\n",
    "    return np.mean(cv_scores)"
   ]
  },
  {
   "cell_type": "markdown",
   "metadata": {},
   "source": [
    "### Settings"
   ]
  },
  {
   "cell_type": "code",
   "execution_count": 65,
   "metadata": {},
   "outputs": [],
   "source": [
    "# round\n",
    "pd.options.display.float_format = '{:.3f}'.format\n",
    "\n",
    "# ignoring errors\n",
    "warnings.filterwarnings('ignore')\n",
    "optuna.logging.set_verbosity(optuna.logging.WARNING)\n",
    "\n",
    "seed = 42\n",
    "\n",
    "homepath = '/home/gutto/Repos/Hackdays/hackdays/'"
   ]
  },
  {
   "cell_type": "markdown",
   "metadata": {},
   "source": [
    "## DATA"
   ]
  },
  {
   "cell_type": "code",
   "execution_count": 66,
   "metadata": {},
   "outputs": [],
   "source": [
    "df_train = pd.read_csv(homepath + 'data/raw/train.csv', low_memory = False)\n",
    "pickle.dump(df_train, open(homepath + 'data/processed/df_raw.pkl', 'wb'))\n",
    "\n",
    "df_test = pd.read_csv(homepath + 'data/raw/test.csv', low_memory = False)\n",
    "pickle.dump(df_test, open(homepath + 'data/processed/df_test.pkl', 'wb'))"
   ]
  },
  {
   "cell_type": "markdown",
   "metadata": {},
   "source": [
    "## 1. DESCRIÇÃO DOS DADOS"
   ]
  },
  {
   "cell_type": "markdown",
   "metadata": {},
   "source": [
    "### 1.1 Carregando Dados\n"
   ]
  },
  {
   "cell_type": "code",
   "execution_count": 67,
   "metadata": {},
   "outputs": [],
   "source": [
    "df1 = pd.read_pickle(homepath + 'data/processed/df_raw.pkl')"
   ]
  },
  {
   "cell_type": "code",
   "execution_count": 68,
   "metadata": {},
   "outputs": [
    {
     "data": {
      "text/html": [
       "<div>\n",
       "<style scoped>\n",
       "    .dataframe tbody tr th:only-of-type {\n",
       "        vertical-align: middle;\n",
       "    }\n",
       "\n",
       "    .dataframe tbody tr th {\n",
       "        vertical-align: top;\n",
       "    }\n",
       "\n",
       "    .dataframe thead th {\n",
       "        text-align: right;\n",
       "    }\n",
       "</style>\n",
       "<table border=\"1\" class=\"dataframe\">\n",
       "  <thead>\n",
       "    <tr style=\"text-align: right;\">\n",
       "      <th></th>\n",
       "      <th>country</th>\n",
       "      <th>year</th>\n",
       "      <th>uniqueid</th>\n",
       "      <th>location_type</th>\n",
       "      <th>cellphone_access</th>\n",
       "      <th>household_size</th>\n",
       "      <th>age_of_respondent</th>\n",
       "      <th>gender_of_respondent</th>\n",
       "      <th>relationship_with_head</th>\n",
       "      <th>marital_status</th>\n",
       "      <th>education_level</th>\n",
       "      <th>job_type</th>\n",
       "      <th>uid</th>\n",
       "      <th>bank_account</th>\n",
       "    </tr>\n",
       "  </thead>\n",
       "  <tbody>\n",
       "    <tr>\n",
       "      <th>0</th>\n",
       "      <td>Rwanda</td>\n",
       "      <td>2016</td>\n",
       "      <td>uniqueid_4858</td>\n",
       "      <td>Rural</td>\n",
       "      <td>Yes</td>\n",
       "      <td>6</td>\n",
       "      <td>45</td>\n",
       "      <td>Male</td>\n",
       "      <td>Head of Household</td>\n",
       "      <td>Divorced/Seperated</td>\n",
       "      <td>Primary education</td>\n",
       "      <td>Farming and Fishing</td>\n",
       "      <td>Rwanda_uniqueid_4858</td>\n",
       "      <td>No</td>\n",
       "    </tr>\n",
       "    <tr>\n",
       "      <th>1</th>\n",
       "      <td>Tanzania</td>\n",
       "      <td>2017</td>\n",
       "      <td>uniqueid_3015</td>\n",
       "      <td>Urban</td>\n",
       "      <td>No</td>\n",
       "      <td>4</td>\n",
       "      <td>33</td>\n",
       "      <td>Female</td>\n",
       "      <td>Head of Household</td>\n",
       "      <td>Single/Never Married</td>\n",
       "      <td>Primary education</td>\n",
       "      <td>Self employed</td>\n",
       "      <td>Tanzania_uniqueid_3015</td>\n",
       "      <td>No</td>\n",
       "    </tr>\n",
       "    <tr>\n",
       "      <th>2</th>\n",
       "      <td>Rwanda</td>\n",
       "      <td>2016</td>\n",
       "      <td>uniqueid_103</td>\n",
       "      <td>Rural</td>\n",
       "      <td>Yes</td>\n",
       "      <td>7</td>\n",
       "      <td>43</td>\n",
       "      <td>Male</td>\n",
       "      <td>Head of Household</td>\n",
       "      <td>Married/Living together</td>\n",
       "      <td>Secondary education</td>\n",
       "      <td>Farming and Fishing</td>\n",
       "      <td>Rwanda_uniqueid_103</td>\n",
       "      <td>No</td>\n",
       "    </tr>\n",
       "    <tr>\n",
       "      <th>3</th>\n",
       "      <td>Rwanda</td>\n",
       "      <td>2016</td>\n",
       "      <td>uniqueid_4582</td>\n",
       "      <td>Rural</td>\n",
       "      <td>No</td>\n",
       "      <td>6</td>\n",
       "      <td>35</td>\n",
       "      <td>Female</td>\n",
       "      <td>Head of Household</td>\n",
       "      <td>Married/Living together</td>\n",
       "      <td>Primary education</td>\n",
       "      <td>Farming and Fishing</td>\n",
       "      <td>Rwanda_uniqueid_4582</td>\n",
       "      <td>No</td>\n",
       "    </tr>\n",
       "    <tr>\n",
       "      <th>4</th>\n",
       "      <td>Tanzania</td>\n",
       "      <td>2017</td>\n",
       "      <td>uniqueid_2854</td>\n",
       "      <td>Urban</td>\n",
       "      <td>Yes</td>\n",
       "      <td>2</td>\n",
       "      <td>30</td>\n",
       "      <td>Male</td>\n",
       "      <td>Head of Household</td>\n",
       "      <td>Single/Never Married</td>\n",
       "      <td>Primary education</td>\n",
       "      <td>Informally employed</td>\n",
       "      <td>Tanzania_uniqueid_2854</td>\n",
       "      <td>No</td>\n",
       "    </tr>\n",
       "  </tbody>\n",
       "</table>\n",
       "</div>"
      ],
      "text/plain": [
       "    country  year       uniqueid location_type cellphone_access  household_size  age_of_respondent gender_of_respondent relationship_with_head           marital_status      education_level             job_type                     uid bank_account\n",
       "0    Rwanda  2016  uniqueid_4858         Rural              Yes               6                 45                 Male      Head of Household       Divorced/Seperated    Primary education  Farming and Fishing    Rwanda_uniqueid_4858           No\n",
       "1  Tanzania  2017  uniqueid_3015         Urban               No               4                 33               Female      Head of Household     Single/Never Married    Primary education        Self employed  Tanzania_uniqueid_3015           No\n",
       "2    Rwanda  2016   uniqueid_103         Rural              Yes               7                 43                 Male      Head of Household  Married/Living together  Secondary education  Farming and Fishing     Rwanda_uniqueid_103           No\n",
       "3    Rwanda  2016  uniqueid_4582         Rural               No               6                 35               Female      Head of Household  Married/Living together    Primary education  Farming and Fishing    Rwanda_uniqueid_4582           No\n",
       "4  Tanzania  2017  uniqueid_2854         Urban              Yes               2                 30                 Male      Head of Household     Single/Never Married    Primary education  Informally employed  Tanzania_uniqueid_2854           No"
      ]
     },
     "execution_count": 68,
     "metadata": {},
     "output_type": "execute_result"
    }
   ],
   "source": [
    "df1.head()"
   ]
  },
  {
   "cell_type": "markdown",
   "metadata": {},
   "source": [
    "### 1.2 Organizando Colunas \n"
   ]
  },
  {
   "cell_type": "code",
   "execution_count": 69,
   "metadata": {},
   "outputs": [
    {
     "data": {
      "text/html": [
       "<div>\n",
       "<style scoped>\n",
       "    .dataframe tbody tr th:only-of-type {\n",
       "        vertical-align: middle;\n",
       "    }\n",
       "\n",
       "    .dataframe tbody tr th {\n",
       "        vertical-align: top;\n",
       "    }\n",
       "\n",
       "    .dataframe thead th {\n",
       "        text-align: right;\n",
       "    }\n",
       "</style>\n",
       "<table border=\"1\" class=\"dataframe\">\n",
       "  <thead>\n",
       "    <tr style=\"text-align: right;\">\n",
       "      <th></th>\n",
       "      <th>uniqueid</th>\n",
       "      <th>uid</th>\n",
       "      <th>country</th>\n",
       "      <th>year</th>\n",
       "      <th>gender_of_respondent</th>\n",
       "      <th>age_of_respondent</th>\n",
       "      <th>location_type</th>\n",
       "      <th>job_type</th>\n",
       "      <th>education_level</th>\n",
       "      <th>relationship_with_head</th>\n",
       "      <th>marital_status</th>\n",
       "      <th>household_size</th>\n",
       "      <th>cellphone_access</th>\n",
       "      <th>bank_account</th>\n",
       "    </tr>\n",
       "  </thead>\n",
       "  <tbody>\n",
       "    <tr>\n",
       "      <th>0</th>\n",
       "      <td>uniqueid_4858</td>\n",
       "      <td>Rwanda_uniqueid_4858</td>\n",
       "      <td>Rwanda</td>\n",
       "      <td>2016</td>\n",
       "      <td>Male</td>\n",
       "      <td>45</td>\n",
       "      <td>Rural</td>\n",
       "      <td>Farming and Fishing</td>\n",
       "      <td>Primary education</td>\n",
       "      <td>Head of Household</td>\n",
       "      <td>Divorced/Seperated</td>\n",
       "      <td>6</td>\n",
       "      <td>Yes</td>\n",
       "      <td>No</td>\n",
       "    </tr>\n",
       "    <tr>\n",
       "      <th>1</th>\n",
       "      <td>uniqueid_3015</td>\n",
       "      <td>Tanzania_uniqueid_3015</td>\n",
       "      <td>Tanzania</td>\n",
       "      <td>2017</td>\n",
       "      <td>Female</td>\n",
       "      <td>33</td>\n",
       "      <td>Urban</td>\n",
       "      <td>Self employed</td>\n",
       "      <td>Primary education</td>\n",
       "      <td>Head of Household</td>\n",
       "      <td>Single/Never Married</td>\n",
       "      <td>4</td>\n",
       "      <td>No</td>\n",
       "      <td>No</td>\n",
       "    </tr>\n",
       "    <tr>\n",
       "      <th>2</th>\n",
       "      <td>uniqueid_103</td>\n",
       "      <td>Rwanda_uniqueid_103</td>\n",
       "      <td>Rwanda</td>\n",
       "      <td>2016</td>\n",
       "      <td>Male</td>\n",
       "      <td>43</td>\n",
       "      <td>Rural</td>\n",
       "      <td>Farming and Fishing</td>\n",
       "      <td>Secondary education</td>\n",
       "      <td>Head of Household</td>\n",
       "      <td>Married/Living together</td>\n",
       "      <td>7</td>\n",
       "      <td>Yes</td>\n",
       "      <td>No</td>\n",
       "    </tr>\n",
       "    <tr>\n",
       "      <th>3</th>\n",
       "      <td>uniqueid_4582</td>\n",
       "      <td>Rwanda_uniqueid_4582</td>\n",
       "      <td>Rwanda</td>\n",
       "      <td>2016</td>\n",
       "      <td>Female</td>\n",
       "      <td>35</td>\n",
       "      <td>Rural</td>\n",
       "      <td>Farming and Fishing</td>\n",
       "      <td>Primary education</td>\n",
       "      <td>Head of Household</td>\n",
       "      <td>Married/Living together</td>\n",
       "      <td>6</td>\n",
       "      <td>No</td>\n",
       "      <td>No</td>\n",
       "    </tr>\n",
       "    <tr>\n",
       "      <th>4</th>\n",
       "      <td>uniqueid_2854</td>\n",
       "      <td>Tanzania_uniqueid_2854</td>\n",
       "      <td>Tanzania</td>\n",
       "      <td>2017</td>\n",
       "      <td>Male</td>\n",
       "      <td>30</td>\n",
       "      <td>Urban</td>\n",
       "      <td>Informally employed</td>\n",
       "      <td>Primary education</td>\n",
       "      <td>Head of Household</td>\n",
       "      <td>Single/Never Married</td>\n",
       "      <td>2</td>\n",
       "      <td>Yes</td>\n",
       "      <td>No</td>\n",
       "    </tr>\n",
       "  </tbody>\n",
       "</table>\n",
       "</div>"
      ],
      "text/plain": [
       "        uniqueid                     uid   country  year gender_of_respondent  age_of_respondent location_type             job_type      education_level relationship_with_head           marital_status  household_size cellphone_access bank_account\n",
       "0  uniqueid_4858    Rwanda_uniqueid_4858    Rwanda  2016                 Male                 45         Rural  Farming and Fishing    Primary education      Head of Household       Divorced/Seperated               6              Yes           No\n",
       "1  uniqueid_3015  Tanzania_uniqueid_3015  Tanzania  2017               Female                 33         Urban        Self employed    Primary education      Head of Household     Single/Never Married               4               No           No\n",
       "2   uniqueid_103     Rwanda_uniqueid_103    Rwanda  2016                 Male                 43         Rural  Farming and Fishing  Secondary education      Head of Household  Married/Living together               7              Yes           No\n",
       "3  uniqueid_4582    Rwanda_uniqueid_4582    Rwanda  2016               Female                 35         Rural  Farming and Fishing    Primary education      Head of Household  Married/Living together               6               No           No\n",
       "4  uniqueid_2854  Tanzania_uniqueid_2854  Tanzania  2017                 Male                 30         Urban  Informally employed    Primary education      Head of Household     Single/Never Married               2              Yes           No"
      ]
     },
     "execution_count": 69,
     "metadata": {},
     "output_type": "execute_result"
    }
   ],
   "source": [
    "df1 = df1.reindex(columns=['uniqueid', 'uid', 'country', 'year', 'gender_of_respondent', 'age_of_respondent','location_type', 'job_type', 'education_level', 'relationship_with_head', 'marital_status', 'household_size', 'cellphone_access', 'bank_account'])\n",
    "df1.head()"
   ]
  },
  {
   "cell_type": "markdown",
   "metadata": {},
   "source": [
    "### 1.3 Tamanho do Dataset\n"
   ]
  },
  {
   "cell_type": "code",
   "execution_count": 70,
   "metadata": {},
   "outputs": [
    {
     "name": "stdout",
     "output_type": "stream",
     "text": [
      "Número de linhas: 11762 \n",
      "Número de colunas: 14\n"
     ]
    }
   ],
   "source": [
    "print(f'Número de linhas: {df1.shape[0]} \\nNúmero de colunas: {df1.shape[1]}')\n"
   ]
  },
  {
   "cell_type": "markdown",
   "metadata": {},
   "source": [
    "### 1.4 Verificação"
   ]
  },
  {
   "cell_type": "code",
   "execution_count": 71,
   "metadata": {},
   "outputs": [
    {
     "name": "stdout",
     "output_type": "stream",
     "text": [
      "<class 'pandas.core.frame.DataFrame'>\n",
      "RangeIndex: 11762 entries, 0 to 11761\n",
      "Data columns (total 14 columns):\n",
      " #   Column                  Non-Null Count  Dtype \n",
      "---  ------                  --------------  ----- \n",
      " 0   uniqueid                11762 non-null  object\n",
      " 1   uid                     11762 non-null  object\n",
      " 2   country                 11762 non-null  object\n",
      " 3   year                    11762 non-null  int64 \n",
      " 4   gender_of_respondent    11762 non-null  object\n",
      " 5   age_of_respondent       11762 non-null  int64 \n",
      " 6   location_type           11762 non-null  object\n",
      " 7   job_type                11762 non-null  object\n",
      " 8   education_level         11762 non-null  object\n",
      " 9   relationship_with_head  11762 non-null  object\n",
      " 10  marital_status          11762 non-null  object\n",
      " 11  household_size          11762 non-null  int64 \n",
      " 12  cellphone_access        11762 non-null  object\n",
      " 13  bank_account            11762 non-null  object\n",
      "dtypes: int64(3), object(11)\n",
      "memory usage: 1.3+ MB\n"
     ]
    }
   ],
   "source": [
    "df1.info()"
   ]
  },
  {
   "cell_type": "code",
   "execution_count": 72,
   "metadata": {},
   "outputs": [
    {
     "data": {
      "text/plain": [
       "uniqueid                  0\n",
       "uid                       0\n",
       "country                   0\n",
       "year                      0\n",
       "gender_of_respondent      0\n",
       "age_of_respondent         0\n",
       "location_type             0\n",
       "job_type                  0\n",
       "education_level           0\n",
       "relationship_with_head    0\n",
       "marital_status            0\n",
       "household_size            0\n",
       "cellphone_access          0\n",
       "bank_account              0\n",
       "dtype: int64"
      ]
     },
     "execution_count": 72,
     "metadata": {},
     "output_type": "execute_result"
    }
   ],
   "source": [
    "df1.isna().sum()"
   ]
  },
  {
   "cell_type": "markdown",
   "metadata": {},
   "source": [
    "Esse banco de dados não possui NA"
   ]
  },
  {
   "cell_type": "code",
   "execution_count": 73,
   "metadata": {},
   "outputs": [
    {
     "data": {
      "text/plain": [
       "No    0.857\n",
       "Yes   0.143\n",
       "Name: bank_account, dtype: float64"
      ]
     },
     "execution_count": 73,
     "metadata": {},
     "output_type": "execute_result"
    }
   ],
   "source": [
    "df1['bank_account'].value_counts(normalize = True)"
   ]
  },
  {
   "cell_type": "markdown",
   "metadata": {},
   "source": [
    "Algoritmos de Machine Learning para classificação binária consideram, geralmente, a variável resposta com uma proporção de 50-50, nesse caso a proporção é de 85,7-14,3.\n",
    "\n",
    "**Um balanceamento será necessário!**\n",
    "\n",
    "[Referência](https://towardsdatascience.com/handling-imbalanced-datasets-in-machine-learning-7a0e84220f28)"
   ]
  },
  {
   "cell_type": "markdown",
   "metadata": {},
   "source": [
    "### 1.5 Estatística Descritiva "
   ]
  },
  {
   "cell_type": "markdown",
   "metadata": {},
   "source": [
    "#### 1.5.1 Varíaveis Numéricas "
   ]
  },
  {
   "cell_type": "code",
   "execution_count": 74,
   "metadata": {},
   "outputs": [
    {
     "data": {
      "text/html": [
       "<div>\n",
       "<style scoped>\n",
       "    .dataframe tbody tr th:only-of-type {\n",
       "        vertical-align: middle;\n",
       "    }\n",
       "\n",
       "    .dataframe tbody tr th {\n",
       "        vertical-align: top;\n",
       "    }\n",
       "\n",
       "    .dataframe thead th {\n",
       "        text-align: right;\n",
       "    }\n",
       "</style>\n",
       "<table border=\"1\" class=\"dataframe\">\n",
       "  <thead>\n",
       "    <tr style=\"text-align: right;\">\n",
       "      <th></th>\n",
       "      <th>Attributes</th>\n",
       "      <th>Min</th>\n",
       "      <th>Max</th>\n",
       "      <th>Range</th>\n",
       "      <th>Mean</th>\n",
       "      <th>Median</th>\n",
       "      <th>Q1</th>\n",
       "      <th>Q3</th>\n",
       "      <th>St deviation</th>\n",
       "      <th>Skewness</th>\n",
       "      <th>Kurtosis</th>\n",
       "    </tr>\n",
       "  </thead>\n",
       "  <tbody>\n",
       "    <tr>\n",
       "      <th>0</th>\n",
       "      <td>age_of_respondent</td>\n",
       "      <td>16.000</td>\n",
       "      <td>100.000</td>\n",
       "      <td>84.000</td>\n",
       "      <td>38.602</td>\n",
       "      <td>35.000</td>\n",
       "      <td>26.000</td>\n",
       "      <td>48.000</td>\n",
       "      <td>16.334</td>\n",
       "      <td>0.852</td>\n",
       "      <td>0.162</td>\n",
       "    </tr>\n",
       "    <tr>\n",
       "      <th>1</th>\n",
       "      <td>household_size</td>\n",
       "      <td>1.000</td>\n",
       "      <td>21.000</td>\n",
       "      <td>20.000</td>\n",
       "      <td>3.794</td>\n",
       "      <td>3.000</td>\n",
       "      <td>2.000</td>\n",
       "      <td>5.000</td>\n",
       "      <td>2.225</td>\n",
       "      <td>1.004</td>\n",
       "      <td>1.530</td>\n",
       "    </tr>\n",
       "  </tbody>\n",
       "</table>\n",
       "</div>"
      ],
      "text/plain": [
       "          Attributes    Min     Max  Range   Mean  Median     Q1     Q3  St deviation  Skewness  Kurtosis\n",
       "0  age_of_respondent 16.000 100.000 84.000 38.602  35.000 26.000 48.000        16.334     0.852     0.162\n",
       "1     household_size  1.000  21.000 20.000  3.794   3.000  2.000  5.000         2.225     1.004     1.530"
      ]
     },
     "execution_count": 74,
     "metadata": {},
     "output_type": "execute_result"
    }
   ],
   "source": [
    "num_attributes = df1[['age_of_respondent', 'household_size']]\n",
    "num_result = numerical_metrics(num_attributes)\n",
    "num_result"
   ]
  },
  {
   "cell_type": "code",
   "execution_count": 75,
   "metadata": {},
   "outputs": [
    {
     "data": {
      "image/png": "[encoded data removed]",
      "text/plain": [
       "<Figure size 1800x864 with 2 Axes>"
      ]
     },
     "metadata": {},
     "output_type": "display_data"
    }
   ],
   "source": [
    "multiple_histplots(num_attributes, 2, 1);"
   ]
  },
  {
   "cell_type": "code",
   "execution_count": 76,
   "metadata": {},
   "outputs": [
    {
     "data": {
      "image/png": "[encoded data removed]",
      "text/plain": [
       "<Figure size 1800x864 with 2 Axes>"
      ]
     },
     "metadata": {},
     "output_type": "display_data"
    }
   ],
   "source": [
    "i = 1\n",
    "for col in num_attributes:\n",
    "    plt.subplot(1, 2, i)\n",
    "    ax = sns.boxplot(data = num_attributes, x = col)\n",
    "    i += 1"
   ]
  },
  {
   "cell_type": "markdown",
   "metadata": {},
   "source": [
    "#### 1.5.2 Variáveis Categóricas "
   ]
  },
  {
   "cell_type": "code",
   "execution_count": 77,
   "metadata": {},
   "outputs": [
    {
     "data": {
      "image/png": "[encoded data removed]",
      "text/plain": [
       "<Figure size 1800x864 with 8 Axes>"
      ]
     },
     "metadata": {},
     "output_type": "display_data"
    }
   ],
   "source": [
    "cat_attributes = df1[['country', 'gender_of_respondent','location_type', 'job_type', 'education_level', 'relationship_with_head', 'marital_status', 'cellphone_access', 'bank_account']]\n",
    "\n",
    "basic_enc = {'No': 0, 'Yes': 1}\n",
    "cat_attributes['bank_account'] = cat_attributes['bank_account'].map(basic_enc)\n",
    "\n",
    "# creating subplots\n",
    "fig, ax = plt.subplots()\n",
    "#fig.set_xticklabels(fig.get_xticklabels(),rotation = 60)\n",
    "\n",
    "plt.subplot(2, 4, 1)\n",
    "sns.barplot(x = 'country', y = 'bank_account', data = cat_attributes, palette = 'tab10');\n",
    "\n",
    "plt.subplot(2, 4, 2)\n",
    "sns.barplot(x = 'gender_of_respondent', y = 'bank_account', data = cat_attributes, palette = 'tab10');\n",
    "\n",
    "plt.subplot(2, 4, 3)\n",
    "sns.barplot(x = 'location_type', y = 'bank_account', data = cat_attributes, palette = 'tab10');\n",
    "\n",
    "plt.subplot(2, 4, 4)\n",
    "sns.barplot(x = 'cellphone_access', y = 'bank_account', data = cat_attributes, palette = 'tab10');\n",
    "\n",
    "plt.subplot(2, 4, 5)\n",
    "sns.barplot(x = 'education_level', y = 'bank_account', data = cat_attributes, palette = 'tab10');\n",
    "plt.xticks(rotation = 90)\n",
    "\n",
    "plt.subplot(2, 4, 6)\n",
    "sns.barplot(x = 'relationship_with_head', y = 'bank_account', data = cat_attributes, palette = 'tab10');\n",
    "plt.xticks(rotation = 90)\n",
    "\n",
    "plt.subplot(2, 4, 7)\n",
    "sns.barplot(x = 'marital_status', y = 'bank_account', data = cat_attributes, palette = 'tab10');\n",
    "plt.xticks(rotation = 90)\n",
    "\n",
    "plt.subplot(2, 4, 8)\n",
    "sns.barplot(x = 'job_type', y = 'bank_account', data = cat_attributes, palette = 'tab10');\n",
    "plt.xticks(rotation = 90);"
   ]
  },
  {
   "cell_type": "markdown",
   "metadata": {},
   "source": [
    "##### 1.6.2.1 Country"
   ]
  },
  {
   "cell_type": "code",
   "execution_count": 78,
   "metadata": {},
   "outputs": [
    {
     "data": {
      "text/html": [
       "<div>\n",
       "<style scoped>\n",
       "    .dataframe tbody tr th:only-of-type {\n",
       "        vertical-align: middle;\n",
       "    }\n",
       "\n",
       "    .dataframe tbody tr th {\n",
       "        vertical-align: top;\n",
       "    }\n",
       "\n",
       "    .dataframe thead th {\n",
       "        text-align: right;\n",
       "    }\n",
       "</style>\n",
       "<table border=\"1\" class=\"dataframe\">\n",
       "  <thead>\n",
       "    <tr style=\"text-align: right;\">\n",
       "      <th></th>\n",
       "      <th>absolute</th>\n",
       "      <th>percent %</th>\n",
       "    </tr>\n",
       "  </thead>\n",
       "  <tbody>\n",
       "    <tr>\n",
       "      <th>Rwanda</th>\n",
       "      <td>4335</td>\n",
       "      <td>36.856</td>\n",
       "    </tr>\n",
       "    <tr>\n",
       "      <th>Tanzania</th>\n",
       "      <td>3288</td>\n",
       "      <td>27.954</td>\n",
       "    </tr>\n",
       "    <tr>\n",
       "      <th>Kenya</th>\n",
       "      <td>3052</td>\n",
       "      <td>25.948</td>\n",
       "    </tr>\n",
       "    <tr>\n",
       "      <th>Uganda</th>\n",
       "      <td>1087</td>\n",
       "      <td>9.242</td>\n",
       "    </tr>\n",
       "  </tbody>\n",
       "</table>\n",
       "</div>"
      ],
      "text/plain": [
       "          absolute  percent %\n",
       "Rwanda        4335     36.856\n",
       "Tanzania      3288     27.954\n",
       "Kenya         3052     25.948\n",
       "Uganda        1087      9.242"
      ]
     },
     "execution_count": 78,
     "metadata": {},
     "output_type": "execute_result"
    }
   ],
   "source": [
    "categorical_metrics(cat_attributes, 'country')"
   ]
  },
  {
   "cell_type": "markdown",
   "metadata": {},
   "source": [
    "##### 1.6.2.2 Gender of Repondent"
   ]
  },
  {
   "cell_type": "code",
   "execution_count": 79,
   "metadata": {},
   "outputs": [
    {
     "data": {
      "text/html": [
       "<div>\n",
       "<style scoped>\n",
       "    .dataframe tbody tr th:only-of-type {\n",
       "        vertical-align: middle;\n",
       "    }\n",
       "\n",
       "    .dataframe tbody tr th {\n",
       "        vertical-align: top;\n",
       "    }\n",
       "\n",
       "    .dataframe thead th {\n",
       "        text-align: right;\n",
       "    }\n",
       "</style>\n",
       "<table border=\"1\" class=\"dataframe\">\n",
       "  <thead>\n",
       "    <tr style=\"text-align: right;\">\n",
       "      <th></th>\n",
       "      <th>absolute</th>\n",
       "      <th>percent %</th>\n",
       "    </tr>\n",
       "  </thead>\n",
       "  <tbody>\n",
       "    <tr>\n",
       "      <th>Female</th>\n",
       "      <td>6902</td>\n",
       "      <td>58.680</td>\n",
       "    </tr>\n",
       "    <tr>\n",
       "      <th>Male</th>\n",
       "      <td>4860</td>\n",
       "      <td>41.320</td>\n",
       "    </tr>\n",
       "  </tbody>\n",
       "</table>\n",
       "</div>"
      ],
      "text/plain": [
       "        absolute  percent %\n",
       "Female      6902     58.680\n",
       "Male        4860     41.320"
      ]
     },
     "execution_count": 79,
     "metadata": {},
     "output_type": "execute_result"
    }
   ],
   "source": [
    "categorical_metrics(cat_attributes, 'gender_of_respondent')"
   ]
  },
  {
   "cell_type": "markdown",
   "metadata": {},
   "source": [
    "##### 1.6.2.3 Location Type"
   ]
  },
  {
   "cell_type": "code",
   "execution_count": 80,
   "metadata": {},
   "outputs": [
    {
     "data": {
      "text/html": [
       "<div>\n",
       "<style scoped>\n",
       "    .dataframe tbody tr th:only-of-type {\n",
       "        vertical-align: middle;\n",
       "    }\n",
       "\n",
       "    .dataframe tbody tr th {\n",
       "        vertical-align: top;\n",
       "    }\n",
       "\n",
       "    .dataframe thead th {\n",
       "        text-align: right;\n",
       "    }\n",
       "</style>\n",
       "<table border=\"1\" class=\"dataframe\">\n",
       "  <thead>\n",
       "    <tr style=\"text-align: right;\">\n",
       "      <th></th>\n",
       "      <th>absolute</th>\n",
       "      <th>percent %</th>\n",
       "    </tr>\n",
       "  </thead>\n",
       "  <tbody>\n",
       "    <tr>\n",
       "      <th>Rural</th>\n",
       "      <td>7100</td>\n",
       "      <td>60.364</td>\n",
       "    </tr>\n",
       "    <tr>\n",
       "      <th>Urban</th>\n",
       "      <td>4662</td>\n",
       "      <td>39.636</td>\n",
       "    </tr>\n",
       "  </tbody>\n",
       "</table>\n",
       "</div>"
      ],
      "text/plain": [
       "       absolute  percent %\n",
       "Rural      7100     60.364\n",
       "Urban      4662     39.636"
      ]
     },
     "execution_count": 80,
     "metadata": {},
     "output_type": "execute_result"
    }
   ],
   "source": [
    "categorical_metrics(cat_attributes, 'location_type')"
   ]
  },
  {
   "cell_type": "markdown",
   "metadata": {},
   "source": [
    "##### 1.6.2.4 Cellphone Access"
   ]
  },
  {
   "cell_type": "code",
   "execution_count": 81,
   "metadata": {},
   "outputs": [
    {
     "data": {
      "text/html": [
       "<div>\n",
       "<style scoped>\n",
       "    .dataframe tbody tr th:only-of-type {\n",
       "        vertical-align: middle;\n",
       "    }\n",
       "\n",
       "    .dataframe tbody tr th {\n",
       "        vertical-align: top;\n",
       "    }\n",
       "\n",
       "    .dataframe thead th {\n",
       "        text-align: right;\n",
       "    }\n",
       "</style>\n",
       "<table border=\"1\" class=\"dataframe\">\n",
       "  <thead>\n",
       "    <tr style=\"text-align: right;\">\n",
       "      <th></th>\n",
       "      <th>absolute</th>\n",
       "      <th>percent %</th>\n",
       "    </tr>\n",
       "  </thead>\n",
       "  <tbody>\n",
       "    <tr>\n",
       "      <th>Yes</th>\n",
       "      <td>8786</td>\n",
       "      <td>74.698</td>\n",
       "    </tr>\n",
       "    <tr>\n",
       "      <th>No</th>\n",
       "      <td>2976</td>\n",
       "      <td>25.302</td>\n",
       "    </tr>\n",
       "  </tbody>\n",
       "</table>\n",
       "</div>"
      ],
      "text/plain": [
       "     absolute  percent %\n",
       "Yes      8786     74.698\n",
       "No       2976     25.302"
      ]
     },
     "execution_count": 81,
     "metadata": {},
     "output_type": "execute_result"
    }
   ],
   "source": [
    "categorical_metrics(cat_attributes, 'cellphone_access')"
   ]
  },
  {
   "cell_type": "markdown",
   "metadata": {},
   "source": [
    "##### 1.6.2.5 Education Level"
   ]
  },
  {
   "cell_type": "code",
   "execution_count": 82,
   "metadata": {},
   "outputs": [
    {
     "data": {
      "text/html": [
       "<div>\n",
       "<style scoped>\n",
       "    .dataframe tbody tr th:only-of-type {\n",
       "        vertical-align: middle;\n",
       "    }\n",
       "\n",
       "    .dataframe tbody tr th {\n",
       "        vertical-align: top;\n",
       "    }\n",
       "\n",
       "    .dataframe thead th {\n",
       "        text-align: right;\n",
       "    }\n",
       "</style>\n",
       "<table border=\"1\" class=\"dataframe\">\n",
       "  <thead>\n",
       "    <tr style=\"text-align: right;\">\n",
       "      <th></th>\n",
       "      <th>absolute</th>\n",
       "      <th>percent %</th>\n",
       "    </tr>\n",
       "  </thead>\n",
       "  <tbody>\n",
       "    <tr>\n",
       "      <th>Primary education</th>\n",
       "      <td>6408</td>\n",
       "      <td>54.481</td>\n",
       "    </tr>\n",
       "    <tr>\n",
       "      <th>No formal education</th>\n",
       "      <td>2240</td>\n",
       "      <td>19.044</td>\n",
       "    </tr>\n",
       "    <tr>\n",
       "      <th>Secondary education</th>\n",
       "      <td>2129</td>\n",
       "      <td>18.101</td>\n",
       "    </tr>\n",
       "    <tr>\n",
       "      <th>Tertiary education</th>\n",
       "      <td>566</td>\n",
       "      <td>4.812</td>\n",
       "    </tr>\n",
       "    <tr>\n",
       "      <th>Vocational/Specialised training</th>\n",
       "      <td>399</td>\n",
       "      <td>3.392</td>\n",
       "    </tr>\n",
       "    <tr>\n",
       "      <th>Other/Dont know/RTA</th>\n",
       "      <td>20</td>\n",
       "      <td>0.170</td>\n",
       "    </tr>\n",
       "  </tbody>\n",
       "</table>\n",
       "</div>"
      ],
      "text/plain": [
       "                                 absolute  percent %\n",
       "Primary education                    6408     54.481\n",
       "No formal education                  2240     19.044\n",
       "Secondary education                  2129     18.101\n",
       "Tertiary education                    566      4.812\n",
       "Vocational/Specialised training       399      3.392\n",
       "Other/Dont know/RTA                    20      0.170"
      ]
     },
     "execution_count": 82,
     "metadata": {},
     "output_type": "execute_result"
    }
   ],
   "source": [
    "categorical_metrics(cat_attributes, 'education_level')"
   ]
  },
  {
   "cell_type": "markdown",
   "metadata": {},
   "source": [
    "##### 1.6.2.5 Relationship with Head "
   ]
  },
  {
   "cell_type": "code",
   "execution_count": 83,
   "metadata": {},
   "outputs": [
    {
     "data": {
      "text/html": [
       "<div>\n",
       "<style scoped>\n",
       "    .dataframe tbody tr th:only-of-type {\n",
       "        vertical-align: middle;\n",
       "    }\n",
       "\n",
       "    .dataframe tbody tr th {\n",
       "        vertical-align: top;\n",
       "    }\n",
       "\n",
       "    .dataframe thead th {\n",
       "        text-align: right;\n",
       "    }\n",
       "</style>\n",
       "<table border=\"1\" class=\"dataframe\">\n",
       "  <thead>\n",
       "    <tr style=\"text-align: right;\">\n",
       "      <th></th>\n",
       "      <th>absolute</th>\n",
       "      <th>percent %</th>\n",
       "    </tr>\n",
       "  </thead>\n",
       "  <tbody>\n",
       "    <tr>\n",
       "      <th>Head of Household</th>\n",
       "      <td>6358</td>\n",
       "      <td>54.055</td>\n",
       "    </tr>\n",
       "    <tr>\n",
       "      <th>Spouse</th>\n",
       "      <td>3287</td>\n",
       "      <td>27.946</td>\n",
       "    </tr>\n",
       "    <tr>\n",
       "      <th>Child</th>\n",
       "      <td>1099</td>\n",
       "      <td>9.344</td>\n",
       "    </tr>\n",
       "    <tr>\n",
       "      <th>Parent</th>\n",
       "      <td>560</td>\n",
       "      <td>4.761</td>\n",
       "    </tr>\n",
       "    <tr>\n",
       "      <th>Other relative</th>\n",
       "      <td>368</td>\n",
       "      <td>3.129</td>\n",
       "    </tr>\n",
       "    <tr>\n",
       "      <th>Other non-relatives</th>\n",
       "      <td>90</td>\n",
       "      <td>0.765</td>\n",
       "    </tr>\n",
       "  </tbody>\n",
       "</table>\n",
       "</div>"
      ],
      "text/plain": [
       "                     absolute  percent %\n",
       "Head of Household        6358     54.055\n",
       "Spouse                   3287     27.946\n",
       "Child                    1099      9.344\n",
       "Parent                    560      4.761\n",
       "Other relative            368      3.129\n",
       "Other non-relatives        90      0.765"
      ]
     },
     "execution_count": 83,
     "metadata": {},
     "output_type": "execute_result"
    }
   ],
   "source": [
    "categorical_metrics(cat_attributes, 'relationship_with_head')"
   ]
  },
  {
   "cell_type": "markdown",
   "metadata": {},
   "source": [
    "##### 1.6.2.5 Marital Status "
   ]
  },
  {
   "cell_type": "code",
   "execution_count": 84,
   "metadata": {},
   "outputs": [
    {
     "data": {
      "text/html": [
       "<div>\n",
       "<style scoped>\n",
       "    .dataframe tbody tr th:only-of-type {\n",
       "        vertical-align: middle;\n",
       "    }\n",
       "\n",
       "    .dataframe tbody tr th {\n",
       "        vertical-align: top;\n",
       "    }\n",
       "\n",
       "    .dataframe thead th {\n",
       "        text-align: right;\n",
       "    }\n",
       "</style>\n",
       "<table border=\"1\" class=\"dataframe\">\n",
       "  <thead>\n",
       "    <tr style=\"text-align: right;\">\n",
       "      <th></th>\n",
       "      <th>absolute</th>\n",
       "      <th>percent %</th>\n",
       "    </tr>\n",
       "  </thead>\n",
       "  <tbody>\n",
       "    <tr>\n",
       "      <th>Married/Living together</th>\n",
       "      <td>5433</td>\n",
       "      <td>46.191</td>\n",
       "    </tr>\n",
       "    <tr>\n",
       "      <th>Single/Never Married</th>\n",
       "      <td>3970</td>\n",
       "      <td>33.753</td>\n",
       "    </tr>\n",
       "    <tr>\n",
       "      <th>Widowed</th>\n",
       "      <td>1321</td>\n",
       "      <td>11.231</td>\n",
       "    </tr>\n",
       "    <tr>\n",
       "      <th>Divorced/Seperated</th>\n",
       "      <td>1034</td>\n",
       "      <td>8.791</td>\n",
       "    </tr>\n",
       "    <tr>\n",
       "      <th>Dont know</th>\n",
       "      <td>4</td>\n",
       "      <td>0.034</td>\n",
       "    </tr>\n",
       "  </tbody>\n",
       "</table>\n",
       "</div>"
      ],
      "text/plain": [
       "                         absolute  percent %\n",
       "Married/Living together      5433     46.191\n",
       "Single/Never Married         3970     33.753\n",
       "Widowed                      1321     11.231\n",
       "Divorced/Seperated           1034      8.791\n",
       "Dont know                       4      0.034"
      ]
     },
     "execution_count": 84,
     "metadata": {},
     "output_type": "execute_result"
    }
   ],
   "source": [
    "categorical_metrics(cat_attributes, 'marital_status')"
   ]
  },
  {
   "cell_type": "markdown",
   "metadata": {},
   "source": [
    "##### 1.6.2.5 Job Type"
   ]
  },
  {
   "cell_type": "code",
   "execution_count": 85,
   "metadata": {},
   "outputs": [
    {
     "data": {
      "text/html": [
       "<div>\n",
       "<style scoped>\n",
       "    .dataframe tbody tr th:only-of-type {\n",
       "        vertical-align: middle;\n",
       "    }\n",
       "\n",
       "    .dataframe tbody tr th {\n",
       "        vertical-align: top;\n",
       "    }\n",
       "\n",
       "    .dataframe thead th {\n",
       "        text-align: right;\n",
       "    }\n",
       "</style>\n",
       "<table border=\"1\" class=\"dataframe\">\n",
       "  <thead>\n",
       "    <tr style=\"text-align: right;\">\n",
       "      <th></th>\n",
       "      <th>absolute</th>\n",
       "      <th>percent %</th>\n",
       "    </tr>\n",
       "  </thead>\n",
       "  <tbody>\n",
       "    <tr>\n",
       "      <th>Self employed</th>\n",
       "      <td>3207</td>\n",
       "      <td>27.266</td>\n",
       "    </tr>\n",
       "    <tr>\n",
       "      <th>Informally employed</th>\n",
       "      <td>2788</td>\n",
       "      <td>23.703</td>\n",
       "    </tr>\n",
       "    <tr>\n",
       "      <th>Farming and Fishing</th>\n",
       "      <td>2732</td>\n",
       "      <td>23.227</td>\n",
       "    </tr>\n",
       "    <tr>\n",
       "      <th>Remittance Dependent</th>\n",
       "      <td>1252</td>\n",
       "      <td>10.644</td>\n",
       "    </tr>\n",
       "    <tr>\n",
       "      <th>Other Income</th>\n",
       "      <td>569</td>\n",
       "      <td>4.838</td>\n",
       "    </tr>\n",
       "    <tr>\n",
       "      <th>Formally employed Private</th>\n",
       "      <td>514</td>\n",
       "      <td>4.370</td>\n",
       "    </tr>\n",
       "    <tr>\n",
       "      <th>No Income</th>\n",
       "      <td>310</td>\n",
       "      <td>2.636</td>\n",
       "    </tr>\n",
       "    <tr>\n",
       "      <th>Formally employed Government</th>\n",
       "      <td>206</td>\n",
       "      <td>1.751</td>\n",
       "    </tr>\n",
       "    <tr>\n",
       "      <th>Government Dependent</th>\n",
       "      <td>125</td>\n",
       "      <td>1.063</td>\n",
       "    </tr>\n",
       "    <tr>\n",
       "      <th>Dont Know/Refuse to answer</th>\n",
       "      <td>59</td>\n",
       "      <td>0.502</td>\n",
       "    </tr>\n",
       "  </tbody>\n",
       "</table>\n",
       "</div>"
      ],
      "text/plain": [
       "                              absolute  percent %\n",
       "Self employed                     3207     27.266\n",
       "Informally employed               2788     23.703\n",
       "Farming and Fishing               2732     23.227\n",
       "Remittance Dependent              1252     10.644\n",
       "Other Income                       569      4.838\n",
       "Formally employed Private          514      4.370\n",
       "No Income                          310      2.636\n",
       "Formally employed Government       206      1.751\n",
       "Government Dependent               125      1.063\n",
       "Dont Know/Refuse to answer          59      0.502"
      ]
     },
     "execution_count": 85,
     "metadata": {},
     "output_type": "execute_result"
    }
   ],
   "source": [
    "categorical_metrics(cat_attributes, 'job_type')"
   ]
  },
  {
   "cell_type": "markdown",
   "metadata": {},
   "source": [
    "##### 1.6.2.6 Target"
   ]
  },
  {
   "cell_type": "code",
   "execution_count": 86,
   "metadata": {},
   "outputs": [
    {
     "data": {
      "text/html": [
       "<div>\n",
       "<style scoped>\n",
       "    .dataframe tbody tr th:only-of-type {\n",
       "        vertical-align: middle;\n",
       "    }\n",
       "\n",
       "    .dataframe tbody tr th {\n",
       "        vertical-align: top;\n",
       "    }\n",
       "\n",
       "    .dataframe thead th {\n",
       "        text-align: right;\n",
       "    }\n",
       "</style>\n",
       "<table border=\"1\" class=\"dataframe\">\n",
       "  <thead>\n",
       "    <tr style=\"text-align: right;\">\n",
       "      <th></th>\n",
       "      <th>absolute</th>\n",
       "      <th>percent %</th>\n",
       "    </tr>\n",
       "  </thead>\n",
       "  <tbody>\n",
       "    <tr>\n",
       "      <th>0</th>\n",
       "      <td>10077</td>\n",
       "      <td>85.674</td>\n",
       "    </tr>\n",
       "    <tr>\n",
       "      <th>1</th>\n",
       "      <td>1685</td>\n",
       "      <td>14.326</td>\n",
       "    </tr>\n",
       "  </tbody>\n",
       "</table>\n",
       "</div>"
      ],
      "text/plain": [
       "   absolute  percent %\n",
       "0     10077     85.674\n",
       "1      1685     14.326"
      ]
     },
     "execution_count": 86,
     "metadata": {},
     "output_type": "execute_result"
    }
   ],
   "source": [
    "categorical_metrics(cat_attributes, 'bank_account')"
   ]
  },
  {
   "cell_type": "markdown",
   "metadata": {},
   "source": [
    "### 1.7 Filtragem "
   ]
  },
  {
   "cell_type": "markdown",
   "metadata": {},
   "source": [
    "#### 1.7.1 Linhas "
   ]
  },
  {
   "cell_type": "markdown",
   "metadata": {},
   "source": [
    "#### 1.7.2 Colunas "
   ]
  },
  {
   "cell_type": "code",
   "execution_count": 87,
   "metadata": {},
   "outputs": [],
   "source": [
    "cols_drop = ['year']\n",
    "df1 = df1.drop(columns = cols_drop)"
   ]
  },
  {
   "cell_type": "markdown",
   "metadata": {},
   "source": [
    "### 1.8 Save State"
   ]
  },
  {
   "cell_type": "code",
   "execution_count": 88,
   "metadata": {},
   "outputs": [],
   "source": [
    "df1.to_pickle(homepath + 'data/processed/df1.pkl')\n"
   ]
  },
  {
   "cell_type": "markdown",
   "metadata": {},
   "source": [
    "## 2. FEATURE ENGINEERING"
   ]
  },
  {
   "cell_type": "markdown",
   "metadata": {},
   "source": [
    "### 2.1 Separação entre Treino e Validação \n"
   ]
  },
  {
   "cell_type": "code",
   "execution_count": 89,
   "metadata": {},
   "outputs": [],
   "source": [
    "df_total = pd.read_pickle(homepath + 'data/processed/df1.pkl')\n",
    "\n",
    "# Train -> 80%\n",
    "# Val -> 20%\n",
    "\n",
    "x_train, x_val = train_test_split(df_total , test_size = 0.2, random_state = seed)"
   ]
  },
  {
   "cell_type": "markdown",
   "metadata": {},
   "source": [
    "### 2.2 Criação de Features"
   ]
  },
  {
   "cell_type": "code",
   "execution_count": 90,
   "metadata": {},
   "outputs": [],
   "source": [
    "for dataframe in [x_train, x_val]:\n",
    "    #location type & cellphone\n",
    "    dataframe['rural_cellphone_access'] = dataframe.apply(lambda x: 1 if (x['location_type']=='Rural') & (x['cellphone_access']=='Yes') else 0, axis=1)\n",
    "    dataframe['urban_cellphone_access'] = dataframe.apply(lambda x: 1 if (x['location_type']=='Urban') & (x['cellphone_access']=='Yes') else 0, axis=1)\n",
    "\n",
    "\n",
    "\n",
    "\n",
    "    #Classificar idades \n",
    "    dataframe['idade_categoria'] = dataframe['age_of_respondent'].apply(lambda x:   'jovem' if x < 20 else\n",
    "                                                                                    'jovem_adulto' if (x >= 20 & x < 30) else\n",
    "                                                                                    'adulto' if (x >= 30 & x < 40) else\n",
    "                                                                                    'meia_idade' if (x >= 40 & x < 55) else \n",
    "                                                                                    'idoso')\n",
    "    # insurance age\n",
    "    dataframe['idade_categoria'] = dataframe['age_of_respondent'].apply(lambda x:   'jovem' if x < 20 else\n",
    "                                                                                    'jovem_adulto' if (x >= 21 and x <= 30) else\n",
    "                                                                                    'adulto' if (x >= 31 and x < 40) else\n",
    "                                                                                    'meia_idade' if (x >= 41 and x < 60) else\n",
    "                                                                                    'idoso')\n",
    "\n",
    "\n",
    "\n",
    "    #classificar relationship with head\n",
    "    dataframe['provedor'] = dataframe['relationship_with_head'].apply(lambda x: 1 if (x == 'Head of Household') or (x == 'Spouse') else 0)"
   ]
  },
  {
   "cell_type": "code",
   "execution_count": 91,
   "metadata": {},
   "outputs": [],
   "source": [
    "df2 = pd.concat([x_train, x_val], ignore_index = True)"
   ]
  },
  {
   "cell_type": "markdown",
   "metadata": {},
   "source": [
    "### 2.3 Save State"
   ]
  },
  {
   "cell_type": "code",
   "execution_count": 92,
   "metadata": {},
   "outputs": [],
   "source": [
    "df2.to_pickle(homepath + 'data/processed/df2.pkl')\n",
    "x_train.to_pickle(homepath + 'data/processed/x_train.pkl')\n",
    "x_val.to_pickle(homepath + 'data/processed/x_val.pkl')"
   ]
  },
  {
   "cell_type": "markdown",
   "metadata": {},
   "source": [
    "## 4.0 PREPARAÇÃO DOS DADOS"
   ]
  },
  {
   "cell_type": "markdown",
   "metadata": {},
   "source": [
    "### 4.1 Dataset Checkpoint\n"
   ]
  },
  {
   "cell_type": "code",
   "execution_count": 93,
   "metadata": {},
   "outputs": [],
   "source": [
    "x_train_imb = pd.read_pickle(homepath + 'data/processed/x_train.pkl')\n",
    "x_val = pd.read_pickle(homepath + 'data/processed/x_val.pkl')"
   ]
  },
  {
   "cell_type": "code",
   "execution_count": 94,
   "metadata": {},
   "outputs": [
    {
     "data": {
      "text/html": [
       "<div>\n",
       "<style scoped>\n",
       "    .dataframe tbody tr th:only-of-type {\n",
       "        vertical-align: middle;\n",
       "    }\n",
       "\n",
       "    .dataframe tbody tr th {\n",
       "        vertical-align: top;\n",
       "    }\n",
       "\n",
       "    .dataframe thead th {\n",
       "        text-align: right;\n",
       "    }\n",
       "</style>\n",
       "<table border=\"1\" class=\"dataframe\">\n",
       "  <thead>\n",
       "    <tr style=\"text-align: right;\">\n",
       "      <th></th>\n",
       "      <th>uniqueid</th>\n",
       "      <th>uid</th>\n",
       "      <th>country</th>\n",
       "      <th>gender_of_respondent</th>\n",
       "      <th>age_of_respondent</th>\n",
       "      <th>location_type</th>\n",
       "      <th>job_type</th>\n",
       "      <th>education_level</th>\n",
       "      <th>relationship_with_head</th>\n",
       "      <th>marital_status</th>\n",
       "      <th>household_size</th>\n",
       "      <th>cellphone_access</th>\n",
       "      <th>bank_account</th>\n",
       "      <th>rural_cellphone_access</th>\n",
       "      <th>urban_cellphone_access</th>\n",
       "      <th>idade_categoria</th>\n",
       "      <th>provedor</th>\n",
       "    </tr>\n",
       "  </thead>\n",
       "  <tbody>\n",
       "    <tr>\n",
       "      <th>7983</th>\n",
       "      <td>uniqueid_582</td>\n",
       "      <td>Uganda_uniqueid_582</td>\n",
       "      <td>Uganda</td>\n",
       "      <td>Female</td>\n",
       "      <td>28</td>\n",
       "      <td>Rural</td>\n",
       "      <td>Self employed</td>\n",
       "      <td>Primary education</td>\n",
       "      <td>Spouse</td>\n",
       "      <td>Married/Living together</td>\n",
       "      <td>4</td>\n",
       "      <td>No</td>\n",
       "      <td>No</td>\n",
       "      <td>0</td>\n",
       "      <td>0</td>\n",
       "      <td>jovem_adulto</td>\n",
       "      <td>1</td>\n",
       "    </tr>\n",
       "    <tr>\n",
       "      <th>5386</th>\n",
       "      <td>uniqueid_3635</td>\n",
       "      <td>Rwanda_uniqueid_3635</td>\n",
       "      <td>Rwanda</td>\n",
       "      <td>Male</td>\n",
       "      <td>56</td>\n",
       "      <td>Rural</td>\n",
       "      <td>Farming and Fishing</td>\n",
       "      <td>Vocational/Specialised training</td>\n",
       "      <td>Head of Household</td>\n",
       "      <td>Married/Living together</td>\n",
       "      <td>10</td>\n",
       "      <td>Yes</td>\n",
       "      <td>Yes</td>\n",
       "      <td>1</td>\n",
       "      <td>0</td>\n",
       "      <td>meia_idade</td>\n",
       "      <td>1</td>\n",
       "    </tr>\n",
       "    <tr>\n",
       "      <th>11557</th>\n",
       "      <td>uniqueid_1325</td>\n",
       "      <td>Rwanda_uniqueid_1325</td>\n",
       "      <td>Rwanda</td>\n",
       "      <td>Female</td>\n",
       "      <td>52</td>\n",
       "      <td>Rural</td>\n",
       "      <td>Informally employed</td>\n",
       "      <td>No formal education</td>\n",
       "      <td>Spouse</td>\n",
       "      <td>Married/Living together</td>\n",
       "      <td>2</td>\n",
       "      <td>Yes</td>\n",
       "      <td>No</td>\n",
       "      <td>1</td>\n",
       "      <td>0</td>\n",
       "      <td>meia_idade</td>\n",
       "      <td>1</td>\n",
       "    </tr>\n",
       "    <tr>\n",
       "      <th>1660</th>\n",
       "      <td>uniqueid_566</td>\n",
       "      <td>Rwanda_uniqueid_566</td>\n",
       "      <td>Rwanda</td>\n",
       "      <td>Male</td>\n",
       "      <td>28</td>\n",
       "      <td>Rural</td>\n",
       "      <td>Farming and Fishing</td>\n",
       "      <td>Primary education</td>\n",
       "      <td>Head of Household</td>\n",
       "      <td>Married/Living together</td>\n",
       "      <td>4</td>\n",
       "      <td>Yes</td>\n",
       "      <td>No</td>\n",
       "      <td>1</td>\n",
       "      <td>0</td>\n",
       "      <td>jovem_adulto</td>\n",
       "      <td>1</td>\n",
       "    </tr>\n",
       "    <tr>\n",
       "      <th>1026</th>\n",
       "      <td>uniqueid_3090</td>\n",
       "      <td>Rwanda_uniqueid_3090</td>\n",
       "      <td>Rwanda</td>\n",
       "      <td>Female</td>\n",
       "      <td>29</td>\n",
       "      <td>Rural</td>\n",
       "      <td>Farming and Fishing</td>\n",
       "      <td>Primary education</td>\n",
       "      <td>Spouse</td>\n",
       "      <td>Married/Living together</td>\n",
       "      <td>4</td>\n",
       "      <td>Yes</td>\n",
       "      <td>No</td>\n",
       "      <td>1</td>\n",
       "      <td>0</td>\n",
       "      <td>jovem_adulto</td>\n",
       "      <td>1</td>\n",
       "    </tr>\n",
       "  </tbody>\n",
       "</table>\n",
       "</div>"
      ],
      "text/plain": [
       "            uniqueid                   uid country gender_of_respondent  age_of_respondent location_type             job_type                  education_level relationship_with_head           marital_status  household_size cellphone_access bank_account  rural_cellphone_access  urban_cellphone_access idade_categoria  provedor\n",
       "7983    uniqueid_582   Uganda_uniqueid_582  Uganda               Female                 28         Rural        Self employed                Primary education                 Spouse  Married/Living together               4               No           No                       0                       0    jovem_adulto         1\n",
       "5386   uniqueid_3635  Rwanda_uniqueid_3635  Rwanda                 Male                 56         Rural  Farming and Fishing  Vocational/Specialised training      Head of Household  Married/Living together              10              Yes          Yes                       1                       0      meia_idade         1\n",
       "11557  uniqueid_1325  Rwanda_uniqueid_1325  Rwanda               Female                 52         Rural  Informally employed              No formal education                 Spouse  Married/Living together               2              Yes           No                       1                       0      meia_idade         1\n",
       "1660    uniqueid_566   Rwanda_uniqueid_566  Rwanda                 Male                 28         Rural  Farming and Fishing                Primary education      Head of Household  Married/Living together               4              Yes           No                       1                       0    jovem_adulto         1\n",
       "1026   uniqueid_3090  Rwanda_uniqueid_3090  Rwanda               Female                 29         Rural  Farming and Fishing                Primary education                 Spouse  Married/Living together               4              Yes           No                       1                       0    jovem_adulto         1"
      ]
     },
     "execution_count": 94,
     "metadata": {},
     "output_type": "execute_result"
    }
   ],
   "source": [
    "x_train_imb.head()"
   ]
  },
  {
   "cell_type": "code",
   "execution_count": 95,
   "metadata": {},
   "outputs": [],
   "source": [
    "train_val_diff = plot_diff([x_train_imb, x_val])\n",
    "train_val_diff.save(homepath + 'reports/df_diff')"
   ]
  },
  {
   "cell_type": "code",
   "execution_count": 96,
   "metadata": {},
   "outputs": [],
   "source": [
    "ohe = {'No': 0, 'Yes': 1}\n",
    "\n",
    "for dataframe in [x_train_imb, x_val]:\n",
    "    dataframe['bank_account'] = dataframe['bank_account'].map(ohe)"
   ]
  },
  {
   "cell_type": "markdown",
   "metadata": {},
   "source": [
    "### 4.2 Split Data"
   ]
  },
  {
   "cell_type": "code",
   "execution_count": 97,
   "metadata": {},
   "outputs": [
    {
     "data": {
      "text/html": [
       "<div>\n",
       "<style scoped>\n",
       "    .dataframe tbody tr th:only-of-type {\n",
       "        vertical-align: middle;\n",
       "    }\n",
       "\n",
       "    .dataframe tbody tr th {\n",
       "        vertical-align: top;\n",
       "    }\n",
       "\n",
       "    .dataframe thead th {\n",
       "        text-align: right;\n",
       "    }\n",
       "</style>\n",
       "<table border=\"1\" class=\"dataframe\">\n",
       "  <thead>\n",
       "    <tr style=\"text-align: right;\">\n",
       "      <th></th>\n",
       "      <th>country</th>\n",
       "      <th>gender_of_respondent</th>\n",
       "      <th>age_of_respondent</th>\n",
       "      <th>location_type</th>\n",
       "      <th>job_type</th>\n",
       "      <th>education_level</th>\n",
       "      <th>relationship_with_head</th>\n",
       "      <th>marital_status</th>\n",
       "      <th>household_size</th>\n",
       "      <th>cellphone_access</th>\n",
       "      <th>rural_cellphone_access</th>\n",
       "      <th>urban_cellphone_access</th>\n",
       "      <th>idade_categoria</th>\n",
       "      <th>provedor</th>\n",
       "    </tr>\n",
       "  </thead>\n",
       "  <tbody>\n",
       "    <tr>\n",
       "      <th>7983</th>\n",
       "      <td>Uganda</td>\n",
       "      <td>Female</td>\n",
       "      <td>28</td>\n",
       "      <td>Rural</td>\n",
       "      <td>Self employed</td>\n",
       "      <td>Primary education</td>\n",
       "      <td>Spouse</td>\n",
       "      <td>Married/Living together</td>\n",
       "      <td>4</td>\n",
       "      <td>No</td>\n",
       "      <td>0</td>\n",
       "      <td>0</td>\n",
       "      <td>jovem_adulto</td>\n",
       "      <td>1</td>\n",
       "    </tr>\n",
       "    <tr>\n",
       "      <th>5386</th>\n",
       "      <td>Rwanda</td>\n",
       "      <td>Male</td>\n",
       "      <td>56</td>\n",
       "      <td>Rural</td>\n",
       "      <td>Farming and Fishing</td>\n",
       "      <td>Vocational/Specialised training</td>\n",
       "      <td>Head of Household</td>\n",
       "      <td>Married/Living together</td>\n",
       "      <td>10</td>\n",
       "      <td>Yes</td>\n",
       "      <td>1</td>\n",
       "      <td>0</td>\n",
       "      <td>meia_idade</td>\n",
       "      <td>1</td>\n",
       "    </tr>\n",
       "    <tr>\n",
       "      <th>11557</th>\n",
       "      <td>Rwanda</td>\n",
       "      <td>Female</td>\n",
       "      <td>52</td>\n",
       "      <td>Rural</td>\n",
       "      <td>Informally employed</td>\n",
       "      <td>No formal education</td>\n",
       "      <td>Spouse</td>\n",
       "      <td>Married/Living together</td>\n",
       "      <td>2</td>\n",
       "      <td>Yes</td>\n",
       "      <td>1</td>\n",
       "      <td>0</td>\n",
       "      <td>meia_idade</td>\n",
       "      <td>1</td>\n",
       "    </tr>\n",
       "    <tr>\n",
       "      <th>1660</th>\n",
       "      <td>Rwanda</td>\n",
       "      <td>Male</td>\n",
       "      <td>28</td>\n",
       "      <td>Rural</td>\n",
       "      <td>Farming and Fishing</td>\n",
       "      <td>Primary education</td>\n",
       "      <td>Head of Household</td>\n",
       "      <td>Married/Living together</td>\n",
       "      <td>4</td>\n",
       "      <td>Yes</td>\n",
       "      <td>1</td>\n",
       "      <td>0</td>\n",
       "      <td>jovem_adulto</td>\n",
       "      <td>1</td>\n",
       "    </tr>\n",
       "    <tr>\n",
       "      <th>1026</th>\n",
       "      <td>Rwanda</td>\n",
       "      <td>Female</td>\n",
       "      <td>29</td>\n",
       "      <td>Rural</td>\n",
       "      <td>Farming and Fishing</td>\n",
       "      <td>Primary education</td>\n",
       "      <td>Spouse</td>\n",
       "      <td>Married/Living together</td>\n",
       "      <td>4</td>\n",
       "      <td>Yes</td>\n",
       "      <td>1</td>\n",
       "      <td>0</td>\n",
       "      <td>jovem_adulto</td>\n",
       "      <td>1</td>\n",
       "    </tr>\n",
       "  </tbody>\n",
       "</table>\n",
       "</div>"
      ],
      "text/plain": [
       "      country gender_of_respondent  age_of_respondent location_type             job_type                  education_level relationship_with_head           marital_status  household_size cellphone_access  rural_cellphone_access  urban_cellphone_access idade_categoria  provedor\n",
       "7983   Uganda               Female                 28         Rural        Self employed                Primary education                 Spouse  Married/Living together               4               No                       0                       0    jovem_adulto         1\n",
       "5386   Rwanda                 Male                 56         Rural  Farming and Fishing  Vocational/Specialised training      Head of Household  Married/Living together              10              Yes                       1                       0      meia_idade         1\n",
       "11557  Rwanda               Female                 52         Rural  Informally employed              No formal education                 Spouse  Married/Living together               2              Yes                       1                       0      meia_idade         1\n",
       "1660   Rwanda                 Male                 28         Rural  Farming and Fishing                Primary education      Head of Household  Married/Living together               4              Yes                       1                       0    jovem_adulto         1\n",
       "1026   Rwanda               Female                 29         Rural  Farming and Fishing                Primary education                 Spouse  Married/Living together               4              Yes                       1                       0    jovem_adulto         1"
      ]
     },
     "execution_count": 97,
     "metadata": {},
     "output_type": "execute_result"
    }
   ],
   "source": [
    "# target: response\n",
    "y_train_imb, y_val = [dataframe['bank_account'] for dataframe in [x_train_imb, x_val]]\n",
    "ids_train, ids_val = [dataframe[['uniqueid', 'uid']] for dataframe in [x_train_imb, x_val]]\n",
    "X_train_imb, X_val = [dataframe.drop(columns = ['bank_account', 'uniqueid', 'uid']) for dataframe in [x_train_imb, x_val]]\n",
    "\n",
    "X_train_imb.head()"
   ]
  },
  {
   "cell_type": "markdown",
   "metadata": {},
   "source": [
    "### 4.4 Rescaling"
   ]
  },
  {
   "cell_type": "code",
   "execution_count": 98,
   "metadata": {},
   "outputs": [
    {
     "data": {
      "text/html": [
       "<div>\n",
       "<style scoped>\n",
       "    .dataframe tbody tr th:only-of-type {\n",
       "        vertical-align: middle;\n",
       "    }\n",
       "\n",
       "    .dataframe tbody tr th {\n",
       "        vertical-align: top;\n",
       "    }\n",
       "\n",
       "    .dataframe thead th {\n",
       "        text-align: right;\n",
       "    }\n",
       "</style>\n",
       "<table border=\"1\" class=\"dataframe\">\n",
       "  <thead>\n",
       "    <tr style=\"text-align: right;\">\n",
       "      <th></th>\n",
       "      <th>country</th>\n",
       "      <th>gender_of_respondent</th>\n",
       "      <th>age_of_respondent</th>\n",
       "      <th>location_type</th>\n",
       "      <th>job_type</th>\n",
       "      <th>education_level</th>\n",
       "      <th>relationship_with_head</th>\n",
       "      <th>marital_status</th>\n",
       "      <th>household_size</th>\n",
       "      <th>cellphone_access</th>\n",
       "      <th>rural_cellphone_access</th>\n",
       "      <th>urban_cellphone_access</th>\n",
       "      <th>idade_categoria</th>\n",
       "      <th>provedor</th>\n",
       "    </tr>\n",
       "  </thead>\n",
       "  <tbody>\n",
       "    <tr>\n",
       "      <th>7983</th>\n",
       "      <td>Uganda</td>\n",
       "      <td>Female</td>\n",
       "      <td>28</td>\n",
       "      <td>Rural</td>\n",
       "      <td>Self employed</td>\n",
       "      <td>Primary education</td>\n",
       "      <td>Spouse</td>\n",
       "      <td>Married/Living together</td>\n",
       "      <td>4</td>\n",
       "      <td>No</td>\n",
       "      <td>0</td>\n",
       "      <td>0</td>\n",
       "      <td>jovem_adulto</td>\n",
       "      <td>1</td>\n",
       "    </tr>\n",
       "    <tr>\n",
       "      <th>5386</th>\n",
       "      <td>Rwanda</td>\n",
       "      <td>Male</td>\n",
       "      <td>56</td>\n",
       "      <td>Rural</td>\n",
       "      <td>Farming and Fishing</td>\n",
       "      <td>Vocational/Specialised training</td>\n",
       "      <td>Head of Household</td>\n",
       "      <td>Married/Living together</td>\n",
       "      <td>10</td>\n",
       "      <td>Yes</td>\n",
       "      <td>1</td>\n",
       "      <td>0</td>\n",
       "      <td>meia_idade</td>\n",
       "      <td>1</td>\n",
       "    </tr>\n",
       "    <tr>\n",
       "      <th>11557</th>\n",
       "      <td>Rwanda</td>\n",
       "      <td>Female</td>\n",
       "      <td>52</td>\n",
       "      <td>Rural</td>\n",
       "      <td>Informally employed</td>\n",
       "      <td>No formal education</td>\n",
       "      <td>Spouse</td>\n",
       "      <td>Married/Living together</td>\n",
       "      <td>2</td>\n",
       "      <td>Yes</td>\n",
       "      <td>1</td>\n",
       "      <td>0</td>\n",
       "      <td>meia_idade</td>\n",
       "      <td>1</td>\n",
       "    </tr>\n",
       "    <tr>\n",
       "      <th>1660</th>\n",
       "      <td>Rwanda</td>\n",
       "      <td>Male</td>\n",
       "      <td>28</td>\n",
       "      <td>Rural</td>\n",
       "      <td>Farming and Fishing</td>\n",
       "      <td>Primary education</td>\n",
       "      <td>Head of Household</td>\n",
       "      <td>Married/Living together</td>\n",
       "      <td>4</td>\n",
       "      <td>Yes</td>\n",
       "      <td>1</td>\n",
       "      <td>0</td>\n",
       "      <td>jovem_adulto</td>\n",
       "      <td>1</td>\n",
       "    </tr>\n",
       "    <tr>\n",
       "      <th>1026</th>\n",
       "      <td>Rwanda</td>\n",
       "      <td>Female</td>\n",
       "      <td>29</td>\n",
       "      <td>Rural</td>\n",
       "      <td>Farming and Fishing</td>\n",
       "      <td>Primary education</td>\n",
       "      <td>Spouse</td>\n",
       "      <td>Married/Living together</td>\n",
       "      <td>4</td>\n",
       "      <td>Yes</td>\n",
       "      <td>1</td>\n",
       "      <td>0</td>\n",
       "      <td>jovem_adulto</td>\n",
       "      <td>1</td>\n",
       "    </tr>\n",
       "  </tbody>\n",
       "</table>\n",
       "</div>"
      ],
      "text/plain": [
       "      country gender_of_respondent  age_of_respondent location_type             job_type                  education_level relationship_with_head           marital_status  household_size cellphone_access  rural_cellphone_access  urban_cellphone_access idade_categoria  provedor\n",
       "7983   Uganda               Female                 28         Rural        Self employed                Primary education                 Spouse  Married/Living together               4               No                       0                       0    jovem_adulto         1\n",
       "5386   Rwanda                 Male                 56         Rural  Farming and Fishing  Vocational/Specialised training      Head of Household  Married/Living together              10              Yes                       1                       0      meia_idade         1\n",
       "11557  Rwanda               Female                 52         Rural  Informally employed              No formal education                 Spouse  Married/Living together               2              Yes                       1                       0      meia_idade         1\n",
       "1660   Rwanda                 Male                 28         Rural  Farming and Fishing                Primary education      Head of Household  Married/Living together               4              Yes                       1                       0    jovem_adulto         1\n",
       "1026   Rwanda               Female                 29         Rural  Farming and Fishing                Primary education                 Spouse  Married/Living together               4              Yes                       1                       0    jovem_adulto         1"
      ]
     },
     "execution_count": 98,
     "metadata": {},
     "output_type": "execute_result"
    }
   ],
   "source": [
    "X_train_imb.head()"
   ]
  },
  {
   "cell_type": "code",
   "execution_count": 99,
   "metadata": {},
   "outputs": [
    {
     "data": {
      "image/png": "[encoded data removed]",
      "text/plain": [
       "<Figure size 1800x864 with 4 Axes>"
      ]
     },
     "metadata": {},
     "output_type": "display_data"
    }
   ],
   "source": [
    "resc = X_train_imb.select_dtypes(include=['int64', 'float64'])\n",
    "cols_drop = ['provedor']\n",
    "resc = resc.drop(columns = cols_drop)\n",
    "resc.columns\n",
    "\n",
    "multiple_histplots(resc, 3, 2);"
   ]
  },
  {
   "cell_type": "code",
   "execution_count": 100,
   "metadata": {},
   "outputs": [],
   "source": [
    "# Min-Max Scaler\n",
    "mms = MinMaxScaler()\n",
    "\n",
    "min_max_scaler = ['age_of_respondent', 'household_size']\n",
    "\n",
    "\n",
    "for col in min_max_scaler:\n",
    "    pickle.dump(mms, open(homepath + f'src/features/{col}_scaler.pkl', 'wb'))\n",
    "    for dataframe in [X_train_imb, X_val]:\n",
    "        dataframe[[col]] = mms.fit_transform(dataframe[[col]].values)"
   ]
  },
  {
   "cell_type": "markdown",
   "metadata": {},
   "source": [
    "### 4.5 Encoding"
   ]
  },
  {
   "cell_type": "code",
   "execution_count": 101,
   "metadata": {},
   "outputs": [],
   "source": [
    "# One Hot Encoding\n",
    "X_train_imb, X_val = [pd.get_dummies(dataframe, prefix = ['idade'], columns = ['idade_categoria']) for dataframe in [X_train_imb, X_val]]\n",
    "\n",
    "# Label Encoding\n",
    "ohe = {'No': 0, 'Yes': 1}\n",
    "gender_ohe = {'Male': 0, 'Female': 1}\n",
    "location_ohe = {'Urban': 0, 'Rural': 1}\n",
    "\n",
    "for dataframe in [X_train_imb, X_val]:\n",
    "    dataframe['gender_of_respondent'] = dataframe['gender_of_respondent'].map(gender_ohe)\n",
    "    dataframe['cellphone_access'] = dataframe['cellphone_access'].map(ohe)\n",
    "    dataframe['location_type'] = dataframe['location_type'].map(location_ohe)\n",
    "\n",
    "# Frequency Encoding\n",
    "fe_cols = ['country', 'relationship_with_head', 'marital_status', 'education_level', 'job_type']\n",
    "\n",
    "for col in fe_cols:\n",
    "    fe_train, fe_val = [(dataframe.groupby(col).size())/len(dataframe) for dataframe in [X_train_imb, X_val]]\n",
    "    X_train_imb.loc[:, col] = X_train_imb[col].map(fe_train)\n",
    "    X_val.loc[:, col] = X_val[col].map(fe_val)"
   ]
  },
  {
   "cell_type": "markdown",
   "metadata": {},
   "source": [
    "### 4.3 Balancing Target"
   ]
  },
  {
   "cell_type": "markdown",
   "metadata": {},
   "source": [
    "Antes do balanceamento"
   ]
  },
  {
   "cell_type": "code",
   "execution_count": 102,
   "metadata": {},
   "outputs": [
    {
     "data": {
      "text/plain": [
       "0   85.705\n",
       "1   14.295\n",
       "Name: bank_account, dtype: float64"
      ]
     },
     "execution_count": 102,
     "metadata": {},
     "output_type": "execute_result"
    }
   ],
   "source": [
    "y_train_imb.value_counts(normalize = True) * 100"
   ]
  },
  {
   "cell_type": "code",
   "execution_count": 103,
   "metadata": {},
   "outputs": [
    {
     "data": {
      "text/html": [
       "<div>\n",
       "<style scoped>\n",
       "    .dataframe tbody tr th:only-of-type {\n",
       "        vertical-align: middle;\n",
       "    }\n",
       "\n",
       "    .dataframe tbody tr th {\n",
       "        vertical-align: top;\n",
       "    }\n",
       "\n",
       "    .dataframe thead th {\n",
       "        text-align: right;\n",
       "    }\n",
       "</style>\n",
       "<table border=\"1\" class=\"dataframe\">\n",
       "  <thead>\n",
       "    <tr style=\"text-align: right;\">\n",
       "      <th></th>\n",
       "      <th>country</th>\n",
       "      <th>gender_of_respondent</th>\n",
       "      <th>age_of_respondent</th>\n",
       "      <th>location_type</th>\n",
       "      <th>job_type</th>\n",
       "      <th>education_level</th>\n",
       "      <th>relationship_with_head</th>\n",
       "      <th>marital_status</th>\n",
       "      <th>household_size</th>\n",
       "      <th>cellphone_access</th>\n",
       "      <th>rural_cellphone_access</th>\n",
       "      <th>urban_cellphone_access</th>\n",
       "      <th>provedor</th>\n",
       "      <th>idade_adulto</th>\n",
       "      <th>idade_idoso</th>\n",
       "      <th>idade_jovem</th>\n",
       "      <th>idade_jovem_adulto</th>\n",
       "      <th>idade_meia_idade</th>\n",
       "    </tr>\n",
       "  </thead>\n",
       "  <tbody>\n",
       "    <tr>\n",
       "      <th>7983</th>\n",
       "      <td>0.093</td>\n",
       "      <td>1</td>\n",
       "      <td>0.143</td>\n",
       "      <td>1</td>\n",
       "      <td>0.276</td>\n",
       "      <td>0.545</td>\n",
       "      <td>0.280</td>\n",
       "      <td>0.461</td>\n",
       "      <td>0.150</td>\n",
       "      <td>0</td>\n",
       "      <td>0</td>\n",
       "      <td>0</td>\n",
       "      <td>1</td>\n",
       "      <td>0</td>\n",
       "      <td>0</td>\n",
       "      <td>0</td>\n",
       "      <td>1</td>\n",
       "      <td>0</td>\n",
       "    </tr>\n",
       "    <tr>\n",
       "      <th>5386</th>\n",
       "      <td>0.367</td>\n",
       "      <td>0</td>\n",
       "      <td>0.476</td>\n",
       "      <td>1</td>\n",
       "      <td>0.232</td>\n",
       "      <td>0.034</td>\n",
       "      <td>0.538</td>\n",
       "      <td>0.461</td>\n",
       "      <td>0.450</td>\n",
       "      <td>1</td>\n",
       "      <td>1</td>\n",
       "      <td>0</td>\n",
       "      <td>1</td>\n",
       "      <td>0</td>\n",
       "      <td>0</td>\n",
       "      <td>0</td>\n",
       "      <td>0</td>\n",
       "      <td>1</td>\n",
       "    </tr>\n",
       "    <tr>\n",
       "      <th>11557</th>\n",
       "      <td>0.367</td>\n",
       "      <td>1</td>\n",
       "      <td>0.429</td>\n",
       "      <td>1</td>\n",
       "      <td>0.234</td>\n",
       "      <td>0.189</td>\n",
       "      <td>0.280</td>\n",
       "      <td>0.461</td>\n",
       "      <td>0.050</td>\n",
       "      <td>1</td>\n",
       "      <td>1</td>\n",
       "      <td>0</td>\n",
       "      <td>1</td>\n",
       "      <td>0</td>\n",
       "      <td>0</td>\n",
       "      <td>0</td>\n",
       "      <td>0</td>\n",
       "      <td>1</td>\n",
       "    </tr>\n",
       "    <tr>\n",
       "      <th>1660</th>\n",
       "      <td>0.367</td>\n",
       "      <td>0</td>\n",
       "      <td>0.143</td>\n",
       "      <td>1</td>\n",
       "      <td>0.232</td>\n",
       "      <td>0.545</td>\n",
       "      <td>0.538</td>\n",
       "      <td>0.461</td>\n",
       "      <td>0.150</td>\n",
       "      <td>1</td>\n",
       "      <td>1</td>\n",
       "      <td>0</td>\n",
       "      <td>1</td>\n",
       "      <td>0</td>\n",
       "      <td>0</td>\n",
       "      <td>0</td>\n",
       "      <td>1</td>\n",
       "      <td>0</td>\n",
       "    </tr>\n",
       "    <tr>\n",
       "      <th>1026</th>\n",
       "      <td>0.367</td>\n",
       "      <td>1</td>\n",
       "      <td>0.155</td>\n",
       "      <td>1</td>\n",
       "      <td>0.232</td>\n",
       "      <td>0.545</td>\n",
       "      <td>0.280</td>\n",
       "      <td>0.461</td>\n",
       "      <td>0.150</td>\n",
       "      <td>1</td>\n",
       "      <td>1</td>\n",
       "      <td>0</td>\n",
       "      <td>1</td>\n",
       "      <td>0</td>\n",
       "      <td>0</td>\n",
       "      <td>0</td>\n",
       "      <td>1</td>\n",
       "      <td>0</td>\n",
       "    </tr>\n",
       "  </tbody>\n",
       "</table>\n",
       "</div>"
      ],
      "text/plain": [
       "       country  gender_of_respondent  age_of_respondent  location_type  job_type  education_level  relationship_with_head  marital_status  household_size  cellphone_access  rural_cellphone_access  urban_cellphone_access  provedor  idade_adulto  idade_idoso  idade_jovem  idade_jovem_adulto  idade_meia_idade\n",
       "7983     0.093                     1              0.143              1     0.276            0.545                   0.280           0.461           0.150                 0                       0                       0         1             0            0            0                   1                 0\n",
       "5386     0.367                     0              0.476              1     0.232            0.034                   0.538           0.461           0.450                 1                       1                       0         1             0            0            0                   0                 1\n",
       "11557    0.367                     1              0.429              1     0.234            0.189                   0.280           0.461           0.050                 1                       1                       0         1             0            0            0                   0                 1\n",
       "1660     0.367                     0              0.143              1     0.232            0.545                   0.538           0.461           0.150                 1                       1                       0         1             0            0            0                   1                 0\n",
       "1026     0.367                     1              0.155              1     0.232            0.545                   0.280           0.461           0.150                 1                       1                       0         1             0            0            0                   1                 0"
      ]
     },
     "execution_count": 103,
     "metadata": {},
     "output_type": "execute_result"
    }
   ],
   "source": [
    "X_train_imb.head()"
   ]
  },
  {
   "cell_type": "code",
   "execution_count": 104,
   "metadata": {},
   "outputs": [
    {
     "data": {
      "text/plain": [
       "Index(['country', 'gender_of_respondent', 'age_of_respondent', 'location_type',\n",
       "       'job_type', 'education_level', 'relationship_with_head',\n",
       "       'marital_status', 'household_size', 'cellphone_access',\n",
       "       'rural_cellphone_access', 'urban_cellphone_access', 'provedor',\n",
       "       'idade_adulto', 'idade_idoso', 'idade_jovem', 'idade_jovem_adulto',\n",
       "       'idade_meia_idade'],\n",
       "      dtype='object')"
      ]
     },
     "execution_count": 104,
     "metadata": {},
     "output_type": "execute_result"
    }
   ],
   "source": [
    "X_train_imb.columns"
   ]
  },
  {
   "cell_type": "code",
   "execution_count": 105,
   "metadata": {},
   "outputs": [],
   "source": [
    "synthetic_samples = SMOTETomek(sampling_strategy = 'minority', random_state = seed, n_jobs = 14)\n",
    "\n",
    "X_train, y_train = synthetic_samples.fit_resample(X_train_imb, y_train_imb)"
   ]
  },
  {
   "cell_type": "markdown",
   "metadata": {},
   "source": [
    "Após o balanceamento"
   ]
  },
  {
   "cell_type": "code",
   "execution_count": 106,
   "metadata": {},
   "outputs": [
    {
     "data": {
      "text/plain": [
       "0   50.000\n",
       "1   50.000\n",
       "Name: bank_account, dtype: float64"
      ]
     },
     "execution_count": 106,
     "metadata": {},
     "output_type": "execute_result"
    }
   ],
   "source": [
    "y_train.value_counts(normalize = True) * 100"
   ]
  },
  {
   "cell_type": "markdown",
   "metadata": {},
   "source": [
    "### 4.6 Feature Importance"
   ]
  },
  {
   "cell_type": "markdown",
   "metadata": {},
   "source": [
    "#### 4.6.1 Feature Importance with ExtraTrees"
   ]
  },
  {
   "cell_type": "code",
   "execution_count": 107,
   "metadata": {},
   "outputs": [
    {
     "data": {
      "image/png": "[encoded data removed]",
      "text/plain": [
       "<Figure size 1800x864 with 1 Axes>"
      ]
     },
     "metadata": {},
     "output_type": "display_data"
    }
   ],
   "source": [
    "et_importance = ExtraTreesClassifier(n_estimators = 100, random_state = seed, n_jobs = 14)\n",
    "et_importance.fit(X_train, y_train)\n",
    "\n",
    "# feature importance dataframe\n",
    "feature_selection = pd.DataFrame({'feature': X_train.columns,'feature_importance': et_importance.feature_importances_})\\\n",
    "                                .sort_values('feature_importance', ascending = False).reset_index(drop = True)\n",
    "\n",
    "# plot feature importance\n",
    "ax = sns.barplot(x = 'feature_importance', y = 'feature', data = feature_selection, orient = 'h')\n",
    "ax.set_title('Feature Importance');"
   ]
  },
  {
   "cell_type": "markdown",
   "metadata": {},
   "source": [
    "#### 4.6.2 Feature Importance with RFE"
   ]
  },
  {
   "cell_type": "code",
   "execution_count": 108,
   "metadata": {},
   "outputs": [
    {
     "data": {
      "text/plain": [
       "Index(['country', 'age_of_respondent', 'job_type', 'education_level',\n",
       "       'relationship_with_head', 'marital_status', 'household_size',\n",
       "       'cellphone_access'],\n",
       "      dtype='object')"
      ]
     },
     "execution_count": 108,
     "metadata": {},
     "output_type": "execute_result"
    }
   ],
   "source": [
    "# feature selector\n",
    "rf_selector = RandomForestClassifier(n_jobs = 14)\n",
    "rfe = RFE(rf_selector, n_features_to_select = 8, step = 1)\n",
    "rfe = rfe.fit(X_train, y_train)\n",
    "\n",
    "# get ranking\n",
    "rfe.support_\n",
    "\n",
    "# selected columns\n",
    "rfe_selected = X_train.loc[:, rfe.support_]\n",
    "rfe_columns = rfe_selected.columns\n",
    "rfe_columns"
   ]
  },
  {
   "cell_type": "markdown",
   "metadata": {},
   "source": [
    "#### 4.6.3 Rank Features"
   ]
  },
  {
   "cell_type": "code",
   "execution_count": 109,
   "metadata": {},
   "outputs": [
    {
     "data": {
      "image/png": "[encoded data removed]",
      "text/plain": [
       "<Figure size 1024x768 with 3 Axes>"
      ]
     },
     "metadata": {},
     "output_type": "display_data"
    }
   ],
   "source": [
    "plt.subplot(2, 1, 1)\n",
    "visualizer_1d = Rank1D(algorithm = 'shapiro', size = (1024, 768))\n",
    "visualizer_1d.fit(X_train, y_train)           \n",
    "visualizer_1d.transform(X_train)        \n",
    "visualizer_1d.finalize();\n",
    "\n",
    "plt.subplot(2, 1, 2)\n",
    "visualizer_2d = Rank2D(algorithm='covariance', size = (1024, 768))\n",
    "visualizer_2d.fit(X_train, y_train)\n",
    "visualizer_2d.transform(X_train)\n",
    "visualizer_2d.finalize();"
   ]
  },
  {
   "cell_type": "markdown",
   "metadata": {},
   "source": [
    "#### 4.6.4 Boruta"
   ]
  },
  {
   "cell_type": "code",
   "execution_count": 110,
   "metadata": {},
   "outputs": [],
   "source": [
    "rf_boruta = RandomForestClassifier(n_estimators = 500, n_jobs = 14, random_state = seed)\n",
    "\n",
    "boruta = BorutaPy(rf_boruta, n_estimators = 'auto', random_state = seed).fit(X_train.values, y_train.values)"
   ]
  },
  {
   "cell_type": "code",
   "execution_count": 111,
   "metadata": {},
   "outputs": [],
   "source": [
    "cols_selected = boruta.support_.tolist()\n",
    "\n",
    "cols_selected_boruta = X_train.iloc[:, cols_selected].columns.to_list()\n",
    "\n",
    "cols_not_selected_boruta = list(np.setdiff1d(X_train.columns, cols_selected_boruta))"
   ]
  },
  {
   "cell_type": "code",
   "execution_count": 112,
   "metadata": {},
   "outputs": [
    {
     "data": {
      "text/plain": [
       "['country',\n",
       " 'age_of_respondent',\n",
       " 'job_type',\n",
       " 'education_level',\n",
       " 'household_size',\n",
       " 'cellphone_access']"
      ]
     },
     "execution_count": 112,
     "metadata": {},
     "output_type": "execute_result"
    }
   ],
   "source": [
    "cols_selected_boruta"
   ]
  },
  {
   "cell_type": "code",
   "execution_count": 113,
   "metadata": {},
   "outputs": [
    {
     "data": {
      "text/plain": [
       "['gender_of_respondent',\n",
       " 'idade_adulto',\n",
       " 'idade_idoso',\n",
       " 'idade_jovem',\n",
       " 'idade_jovem_adulto',\n",
       " 'idade_meia_idade',\n",
       " 'location_type',\n",
       " 'marital_status',\n",
       " 'provedor',\n",
       " 'relationship_with_head',\n",
       " 'rural_cellphone_access',\n",
       " 'urban_cellphone_access']"
      ]
     },
     "execution_count": 113,
     "metadata": {},
     "output_type": "execute_result"
    }
   ],
   "source": [
    "cols_not_selected_boruta"
   ]
  },
  {
   "cell_type": "markdown",
   "metadata": {},
   "source": [
    "### 4.7 Seleção de Features"
   ]
  },
  {
   "cell_type": "code",
   "execution_count": 114,
   "metadata": {},
   "outputs": [],
   "source": [
    "cols_selected = ['country', 'age_of_respondent', 'job_type', 'education_level', 'marital_status', 'cellphone_access', 'household_size', 'relationship_with_head', 'gender_of_respondent']\n",
    "\n",
    "X_train, X_val = [dataframe[cols_selected] for dataframe in [X_train, X_val]]"
   ]
  },
  {
   "cell_type": "markdown",
   "metadata": {},
   "source": [
    "### 4.8 Save State"
   ]
  },
  {
   "cell_type": "code",
   "execution_count": 115,
   "metadata": {},
   "outputs": [],
   "source": [
    "X_train.to_pickle(homepath + 'data/processed/X_train.pkl')\n",
    "X_val.to_pickle(homepath + 'data/processed/X_val.pkl')\n",
    "y_train.to_pickle(homepath + 'data/processed/y_train.pkl')\n",
    "y_val.to_pickle(homepath + 'data/processed/y_val.pkl')\n",
    "ids_train.to_pickle(homepath + 'data/processed/ids_train.pkl')\n",
    "ids_val.to_pickle(homepath + 'data/processed/ids_val.pkl')"
   ]
  },
  {
   "cell_type": "markdown",
   "metadata": {},
   "source": [
    "## 5. MACHINE LEARNING"
   ]
  },
  {
   "cell_type": "markdown",
   "metadata": {},
   "source": [
    "### 5.1 Dataset Checkpoint"
   ]
  },
  {
   "cell_type": "code",
   "execution_count": 116,
   "metadata": {},
   "outputs": [],
   "source": [
    "X_train = pd.read_pickle(homepath + 'data/processed/X_train.pkl')\n",
    "X_val = pd.read_pickle(homepath + 'data/processed/X_val.pkl')\n",
    "y_train = pd.read_pickle(homepath + 'data/processed/y_train.pkl')\n",
    "y_val = pd.read_pickle(homepath + 'data/processed/y_val.pkl')"
   ]
  },
  {
   "cell_type": "markdown",
   "metadata": {},
   "source": [
    "### 5.2 Modelos"
   ]
  },
  {
   "cell_type": "code",
   "execution_count": 117,
   "metadata": {},
   "outputs": [],
   "source": [
    "models = [LogisticRegression(random_state = seed),\n",
    "          RandomForestClassifier(random_state = seed, n_jobs = 14),\n",
    "          ExtraTreesClassifier(random_state = seed, n_jobs = 14),\n",
    "          GaussianNB(),\n",
    "          XGBClassifier(random_state = seed, n_jobs = 14, eval_metric = 'logloss', use_label_encoder = False),\n",
    "          CatBoostClassifier(random_state = seed, verbose = False),\n",
    "          AdaBoostClassifier(random_state = seed),\n",
    "          LGBMClassifier(random_state = seed, n_jobs = 14),\n",
    "          KNeighborsClassifier(n_neighbors = 7, n_jobs = 14),\n",
    "          GradientBoostingClassifier(random_state = seed)\n",
    "         ]"
   ]
  },
  {
   "cell_type": "code",
   "execution_count": 118,
   "metadata": {},
   "outputs": [
    {
     "name": "stdout",
     "output_type": "stream",
     "text": [
      "Please, wait a moment - Doing ML\n",
      "Training model 1/10 -> LogisticRegression\n",
      "Training model 2/10 -> RandomForestClassifier\n",
      "Training model 3/10 -> ExtraTreesClassifier\n",
      "Training model 4/10 -> GaussianNB\n",
      "Training model 5/10 -> XGBClassifier\n",
      "Training model 6/10 -> CatBoostClassifier\n",
      "Training model 7/10 -> AdaBoostClassifier\n",
      "Training model 8/10 -> LGBMClassifier\n",
      "Training model 9/10 -> KNeighborsClassifier\n",
      "Training model 10/10 -> GradientBoostingClassifier\n",
      "Finished, check the results\n"
     ]
    }
   ],
   "source": [
    "metrics_result = metrics_result(models, 'bank_account', X_train, y_train, X_val, y_val)"
   ]
  },
  {
   "cell_type": "markdown",
   "metadata": {},
   "source": [
    "### 5.3 Cross_Validation"
   ]
  },
  {
   "cell_type": "code",
   "execution_count": 119,
   "metadata": {},
   "outputs": [
    {
     "name": "stdout",
     "output_type": "stream",
     "text": [
      "Please, wait a moment, Doing CV\n",
      "Folding model 1/10 -> LogisticRegression\n",
      "Folding model 2/10 -> RandomForestClassifier\n",
      "Folding model 3/10 -> ExtraTreesClassifier\n",
      "Folding model 4/10 -> GaussianNB\n",
      "Folding model 5/10 -> XGBClassifier\n",
      "Folding model 6/10 -> CatBoostClassifier\n",
      "Folding model 7/10 -> AdaBoostClassifier\n",
      "Folding model 8/10 -> LGBMClassifier\n",
      "Folding model 9/10 -> KNeighborsClassifier\n",
      "Folding model 10/10 -> GradientBoostingClassifier\n",
      "Finished, check the results\n"
     ]
    }
   ],
   "source": [
    "cv_result = cross_validation(models, 'bank_account', X_train, y_train)"
   ]
  },
  {
   "cell_type": "code",
   "execution_count": 120,
   "metadata": {},
   "outputs": [],
   "source": [
    "result = pd.merge(metrics_result, cv_result, on = 'Model_Name')"
   ]
  },
  {
   "cell_type": "code",
   "execution_count": 121,
   "metadata": {},
   "outputs": [],
   "source": [
    "def highlight_max(s):\n",
    "    # Only apply highlight in int and float\n",
    "    if s.dtype == np.object:\n",
    "        is_max = [False for _ in range(s.shape[0])]\n",
    "    else:\n",
    "        is_max = s == s.max()\n",
    "    return ['background: #F15854' if cell else '' for cell in is_max]"
   ]
  },
  {
   "cell_type": "code",
   "execution_count": 122,
   "metadata": {},
   "outputs": [
    {
     "data": {
      "text/html": [
       "<style type=\"text/css\">\n",
       "#T_c32f4_row0_col4, #T_c32f4_row1_col8, #T_c32f4_row1_col10, #T_c32f4_row1_col12, #T_c32f4_row4_col2, #T_c32f4_row4_col6, #T_c32f4_row7_col5, #T_c32f4_row7_col9, #T_c32f4_row8_col1, #T_c32f4_row8_col3, #T_c32f4_row9_col7, #T_c32f4_row9_col9, #T_c32f4_row9_col11 {\n",
       "  background: #F15854;\n",
       "}\n",
       "</style>\n",
       "<table id=\"T_c32f4\">\n",
       "  <thead>\n",
       "    <tr>\n",
       "      <th class=\"blank level0\" >&nbsp;</th>\n",
       "      <th id=\"T_c32f4_level0_col0\" class=\"col_heading level0 col0\" >Model_Name</th>\n",
       "      <th id=\"T_c32f4_level0_col1\" class=\"col_heading level0 col1\" >Precision</th>\n",
       "      <th id=\"T_c32f4_level0_col2\" class=\"col_heading level0 col2\" >Recall</th>\n",
       "      <th id=\"T_c32f4_level0_col3\" class=\"col_heading level0 col3\" >F1 Score</th>\n",
       "      <th id=\"T_c32f4_level0_col4\" class=\"col_heading level0 col4\" >ROCAUC</th>\n",
       "      <th id=\"T_c32f4_level0_col5\" class=\"col_heading level0 col5\" >Precision Mean</th>\n",
       "      <th id=\"T_c32f4_level0_col6\" class=\"col_heading level0 col6\" >Precision STD</th>\n",
       "      <th id=\"T_c32f4_level0_col7\" class=\"col_heading level0 col7\" >Recall Mean</th>\n",
       "      <th id=\"T_c32f4_level0_col8\" class=\"col_heading level0 col8\" >Recall STD</th>\n",
       "      <th id=\"T_c32f4_level0_col9\" class=\"col_heading level0 col9\" >F1 Mean</th>\n",
       "      <th id=\"T_c32f4_level0_col10\" class=\"col_heading level0 col10\" >F1 STD</th>\n",
       "      <th id=\"T_c32f4_level0_col11\" class=\"col_heading level0 col11\" >ROCAUC Mean</th>\n",
       "      <th id=\"T_c32f4_level0_col12\" class=\"col_heading level0 col12\" >ROCAUC STD</th>\n",
       "    </tr>\n",
       "  </thead>\n",
       "  <tbody>\n",
       "    <tr>\n",
       "      <th id=\"T_c32f4_level0_row0\" class=\"row_heading level0 row0\" >0</th>\n",
       "      <td id=\"T_c32f4_row0_col0\" class=\"data row0 col0\" >LogisticRegression</td>\n",
       "      <td id=\"T_c32f4_row0_col1\" class=\"data row0 col1\" >0.273523</td>\n",
       "      <td id=\"T_c32f4_row0_col2\" class=\"data row0 col2\" >0.735294</td>\n",
       "      <td id=\"T_c32f4_row0_col3\" class=\"data row0 col3\" >0.398724</td>\n",
       "      <td id=\"T_c32f4_row0_col4\" class=\"data row0 col4\" >0.702719</td>\n",
       "      <td id=\"T_c32f4_row0_col5\" class=\"data row0 col5\" >0.692000</td>\n",
       "      <td id=\"T_c32f4_row0_col6\" class=\"data row0 col6\" >0.007000</td>\n",
       "      <td id=\"T_c32f4_row0_col7\" class=\"data row0 col7\" >0.723000</td>\n",
       "      <td id=\"T_c32f4_row0_col8\" class=\"data row0 col8\" >0.010000</td>\n",
       "      <td id=\"T_c32f4_row0_col9\" class=\"data row0 col9\" >0.707000</td>\n",
       "      <td id=\"T_c32f4_row0_col10\" class=\"data row0 col10\" >0.005000</td>\n",
       "      <td id=\"T_c32f4_row0_col11\" class=\"data row0 col11\" >0.701000</td>\n",
       "      <td id=\"T_c32f4_row0_col12\" class=\"data row0 col12\" >0.005000</td>\n",
       "    </tr>\n",
       "    <tr>\n",
       "      <th id=\"T_c32f4_level0_row1\" class=\"row_heading level0 row1\" >1</th>\n",
       "      <td id=\"T_c32f4_row1_col0\" class=\"data row1 col0\" >RandomForestClassifier</td>\n",
       "      <td id=\"T_c32f4_row1_col1\" class=\"data row1 col1\" >0.177839</td>\n",
       "      <td id=\"T_c32f4_row1_col2\" class=\"data row1 col2\" >0.944118</td>\n",
       "      <td id=\"T_c32f4_row1_col3\" class=\"data row1 col3\" >0.299301</td>\n",
       "      <td id=\"T_c32f4_row1_col4\" class=\"data row1 col4\" >0.603455</td>\n",
       "      <td id=\"T_c32f4_row1_col5\" class=\"data row1 col5\" >0.812000</td>\n",
       "      <td id=\"T_c32f4_row1_col6\" class=\"data row1 col6\" >0.120000</td>\n",
       "      <td id=\"T_c32f4_row1_col7\" class=\"data row1 col7\" >0.818000</td>\n",
       "      <td id=\"T_c32f4_row1_col8\" class=\"data row1 col8\" >0.096000</td>\n",
       "      <td id=\"T_c32f4_row1_col9\" class=\"data row1 col9\" >0.815000</td>\n",
       "      <td id=\"T_c32f4_row1_col10\" class=\"data row1 col10\" >0.108000</td>\n",
       "      <td id=\"T_c32f4_row1_col11\" class=\"data row1 col11\" >0.812000</td>\n",
       "      <td id=\"T_c32f4_row1_col12\" class=\"data row1 col12\" >0.111000</td>\n",
       "    </tr>\n",
       "    <tr>\n",
       "      <th id=\"T_c32f4_level0_row2\" class=\"row_heading level0 row2\" >2</th>\n",
       "      <td id=\"T_c32f4_row2_col0\" class=\"data row2 col0\" >ExtraTreesClassifier</td>\n",
       "      <td id=\"T_c32f4_row2_col1\" class=\"data row2 col1\" >0.222407</td>\n",
       "      <td id=\"T_c32f4_row2_col2\" class=\"data row2 col2\" >0.788235</td>\n",
       "      <td id=\"T_c32f4_row2_col3\" class=\"data row2 col3\" >0.346926</td>\n",
       "      <td id=\"T_c32f4_row2_col4\" class=\"data row2 col4\" >0.661380</td>\n",
       "      <td id=\"T_c32f4_row2_col5\" class=\"data row2 col5\" >0.850000</td>\n",
       "      <td id=\"T_c32f4_row2_col6\" class=\"data row2 col6\" >0.111000</td>\n",
       "      <td id=\"T_c32f4_row2_col7\" class=\"data row2 col7\" >0.854000</td>\n",
       "      <td id=\"T_c32f4_row2_col8\" class=\"data row2 col8\" >0.093000</td>\n",
       "      <td id=\"T_c32f4_row2_col9\" class=\"data row2 col9\" >0.852000</td>\n",
       "      <td id=\"T_c32f4_row2_col10\" class=\"data row2 col10\" >0.102000</td>\n",
       "      <td id=\"T_c32f4_row2_col11\" class=\"data row2 col11\" >0.850000</td>\n",
       "      <td id=\"T_c32f4_row2_col12\" class=\"data row2 col12\" >0.105000</td>\n",
       "    </tr>\n",
       "    <tr>\n",
       "      <th id=\"T_c32f4_level0_row3\" class=\"row_heading level0 row3\" >3</th>\n",
       "      <td id=\"T_c32f4_row3_col0\" class=\"data row3 col0\" >GaussianNB</td>\n",
       "      <td id=\"T_c32f4_row3_col1\" class=\"data row3 col1\" >0.245462</td>\n",
       "      <td id=\"T_c32f4_row3_col2\" class=\"data row3 col2\" >0.835294</td>\n",
       "      <td id=\"T_c32f4_row3_col3\" class=\"data row3 col3\" >0.379426</td>\n",
       "      <td id=\"T_c32f4_row3_col4\" class=\"data row3 col4\" >0.700807</td>\n",
       "      <td id=\"T_c32f4_row3_col5\" class=\"data row3 col5\" >0.802000</td>\n",
       "      <td id=\"T_c32f4_row3_col6\" class=\"data row3 col6\" >0.128000</td>\n",
       "      <td id=\"T_c32f4_row3_col7\" class=\"data row3 col7\" >0.859000</td>\n",
       "      <td id=\"T_c32f4_row3_col8\" class=\"data row3 col8\" >0.081000</td>\n",
       "      <td id=\"T_c32f4_row3_col9\" class=\"data row3 col9\" >0.826000</td>\n",
       "      <td id=\"T_c32f4_row3_col10\" class=\"data row3 col10\" >0.099000</td>\n",
       "      <td id=\"T_c32f4_row3_col11\" class=\"data row3 col11\" >0.815000</td>\n",
       "      <td id=\"T_c32f4_row3_col12\" class=\"data row3 col12\" >0.110000</td>\n",
       "    </tr>\n",
       "    <tr>\n",
       "      <th id=\"T_c32f4_level0_row4\" class=\"row_heading level0 row4\" >4</th>\n",
       "      <td id=\"T_c32f4_row4_col0\" class=\"data row4 col0\" >XGBClassifier</td>\n",
       "      <td id=\"T_c32f4_row4_col1\" class=\"data row4 col1\" >0.150576</td>\n",
       "      <td id=\"T_c32f4_row4_col2\" class=\"data row4 col2\" >1.000000</td>\n",
       "      <td id=\"T_c32f4_row4_col3\" class=\"data row4 col3\" >0.261740</td>\n",
       "      <td id=\"T_c32f4_row4_col4\" class=\"data row4 col4\" >0.523597</td>\n",
       "      <td id=\"T_c32f4_row4_col5\" class=\"data row4 col5\" >0.832000</td>\n",
       "      <td id=\"T_c32f4_row4_col6\" class=\"data row4 col6\" >0.130000</td>\n",
       "      <td id=\"T_c32f4_row4_col7\" class=\"data row4 col7\" >0.869000</td>\n",
       "      <td id=\"T_c32f4_row4_col8\" class=\"data row4 col8\" >0.075000</td>\n",
       "      <td id=\"T_c32f4_row4_col9\" class=\"data row4 col9\" >0.847000</td>\n",
       "      <td id=\"T_c32f4_row4_col10\" class=\"data row4 col10\" >0.098000</td>\n",
       "      <td id=\"T_c32f4_row4_col11\" class=\"data row4 col11\" >0.838000</td>\n",
       "      <td id=\"T_c32f4_row4_col12\" class=\"data row4 col12\" >0.109000</td>\n",
       "    </tr>\n",
       "    <tr>\n",
       "      <th id=\"T_c32f4_level0_row5\" class=\"row_heading level0 row5\" >5</th>\n",
       "      <td id=\"T_c32f4_row5_col0\" class=\"data row5 col0\" >CatBoostClassifier</td>\n",
       "      <td id=\"T_c32f4_row5_col1\" class=\"data row5 col1\" >0.150000</td>\n",
       "      <td id=\"T_c32f4_row5_col2\" class=\"data row5 col2\" >0.997059</td>\n",
       "      <td id=\"T_c32f4_row5_col3\" class=\"data row5 col3\" >0.260769</td>\n",
       "      <td id=\"T_c32f4_row5_col4\" class=\"data row5 col4\" >0.521381</td>\n",
       "      <td id=\"T_c32f4_row5_col5\" class=\"data row5 col5\" >0.853000</td>\n",
       "      <td id=\"T_c32f4_row5_col6\" class=\"data row5 col6\" >0.127000</td>\n",
       "      <td id=\"T_c32f4_row5_col7\" class=\"data row5 col7\" >0.874000</td>\n",
       "      <td id=\"T_c32f4_row5_col8\" class=\"data row5 col8\" >0.070000</td>\n",
       "      <td id=\"T_c32f4_row5_col9\" class=\"data row5 col9\" >0.861000</td>\n",
       "      <td id=\"T_c32f4_row5_col10\" class=\"data row5 col10\" >0.094000</td>\n",
       "      <td id=\"T_c32f4_row5_col11\" class=\"data row5 col11\" >0.853000</td>\n",
       "      <td id=\"T_c32f4_row5_col12\" class=\"data row5 col12\" >0.105000</td>\n",
       "    </tr>\n",
       "    <tr>\n",
       "      <th id=\"T_c32f4_level0_row6\" class=\"row_heading level0 row6\" >6</th>\n",
       "      <td id=\"T_c32f4_row6_col0\" class=\"data row6 col0\" >AdaBoostClassifier</td>\n",
       "      <td id=\"T_c32f4_row6_col1\" class=\"data row6 col1\" >0.190538</td>\n",
       "      <td id=\"T_c32f4_row6_col2\" class=\"data row6 col2\" >0.864706</td>\n",
       "      <td id=\"T_c32f4_row6_col3\" class=\"data row6 col3\" >0.312268</td>\n",
       "      <td id=\"T_c32f4_row6_col4\" class=\"data row6 col4\" >0.622119</td>\n",
       "      <td id=\"T_c32f4_row6_col5\" class=\"data row6 col5\" >0.857000</td>\n",
       "      <td id=\"T_c32f4_row6_col6\" class=\"data row6 col6\" >0.118000</td>\n",
       "      <td id=\"T_c32f4_row6_col7\" class=\"data row6 col7\" >0.870000</td>\n",
       "      <td id=\"T_c32f4_row6_col8\" class=\"data row6 col8\" >0.066000</td>\n",
       "      <td id=\"T_c32f4_row6_col9\" class=\"data row6 col9\" >0.861000</td>\n",
       "      <td id=\"T_c32f4_row6_col10\" class=\"data row6 col10\" >0.087000</td>\n",
       "      <td id=\"T_c32f4_row6_col11\" class=\"data row6 col11\" >0.855000</td>\n",
       "      <td id=\"T_c32f4_row6_col12\" class=\"data row6 col12\" >0.097000</td>\n",
       "    </tr>\n",
       "    <tr>\n",
       "      <th id=\"T_c32f4_level0_row7\" class=\"row_heading level0 row7\" >7</th>\n",
       "      <td id=\"T_c32f4_row7_col0\" class=\"data row7 col0\" >LGBMClassifier</td>\n",
       "      <td id=\"T_c32f4_row7_col1\" class=\"data row7 col1\" >0.156453</td>\n",
       "      <td id=\"T_c32f4_row7_col2\" class=\"data row7 col2\" >0.991176</td>\n",
       "      <td id=\"T_c32f4_row7_col3\" class=\"data row7 col3\" >0.270249</td>\n",
       "      <td id=\"T_c32f4_row7_col4\" class=\"data row7 col4\" >0.544272</td>\n",
       "      <td id=\"T_c32f4_row7_col5\" class=\"data row7 col5\" >0.869000</td>\n",
       "      <td id=\"T_c32f4_row7_col6\" class=\"data row7 col6\" >0.115000</td>\n",
       "      <td id=\"T_c32f4_row7_col7\" class=\"data row7 col7\" >0.874000</td>\n",
       "      <td id=\"T_c32f4_row7_col8\" class=\"data row7 col8\" >0.062000</td>\n",
       "      <td id=\"T_c32f4_row7_col9\" class=\"data row7 col9\" >0.869000</td>\n",
       "      <td id=\"T_c32f4_row7_col10\" class=\"data row7 col10\" >0.084000</td>\n",
       "      <td id=\"T_c32f4_row7_col11\" class=\"data row7 col11\" >0.864000</td>\n",
       "      <td id=\"T_c32f4_row7_col12\" class=\"data row7 col12\" >0.094000</td>\n",
       "    </tr>\n",
       "    <tr>\n",
       "      <th id=\"T_c32f4_level0_row8\" class=\"row_heading level0 row8\" >8</th>\n",
       "      <td id=\"T_c32f4_row8_col0\" class=\"data row8 col0\" >KNeighborsClassifier</td>\n",
       "      <td id=\"T_c32f4_row8_col1\" class=\"data row8 col1\" >0.319635</td>\n",
       "      <td id=\"T_c32f4_row8_col2\" class=\"data row8 col2\" >0.617647</td>\n",
       "      <td id=\"T_c32f4_row8_col3\" class=\"data row8 col3\" >0.421264</td>\n",
       "      <td id=\"T_c32f4_row8_col4\" class=\"data row8 col4\" >0.697795</td>\n",
       "      <td id=\"T_c32f4_row8_col5\" class=\"data row8 col5\" >0.861000</td>\n",
       "      <td id=\"T_c32f4_row8_col6\" class=\"data row8 col6\" >0.110000</td>\n",
       "      <td id=\"T_c32f4_row8_col7\" class=\"data row8 col7\" >0.874000</td>\n",
       "      <td id=\"T_c32f4_row8_col8\" class=\"data row8 col8\" >0.059000</td>\n",
       "      <td id=\"T_c32f4_row8_col9\" class=\"data row8 col9\" >0.865000</td>\n",
       "      <td id=\"T_c32f4_row8_col10\" class=\"data row8 col10\" >0.080000</td>\n",
       "      <td id=\"T_c32f4_row8_col11\" class=\"data row8 col11\" >0.860000</td>\n",
       "      <td id=\"T_c32f4_row8_col12\" class=\"data row8 col12\" >0.090000</td>\n",
       "    </tr>\n",
       "    <tr>\n",
       "      <th id=\"T_c32f4_level0_row9\" class=\"row_heading level0 row9\" >9</th>\n",
       "      <td id=\"T_c32f4_row9_col0\" class=\"data row9 col0\" >GradientBoostingClassifier</td>\n",
       "      <td id=\"T_c32f4_row9_col1\" class=\"data row9 col1\" >0.152596</td>\n",
       "      <td id=\"T_c32f4_row9_col2\" class=\"data row9 col2\" >0.994118</td>\n",
       "      <td id=\"T_c32f4_row9_col3\" class=\"data row9 col3\" >0.264579</td>\n",
       "      <td id=\"T_c32f4_row9_col4\" class=\"data row9 col4\" >0.530839</td>\n",
       "      <td id=\"T_c32f4_row9_col5\" class=\"data row9 col5\" >0.868000</td>\n",
       "      <td id=\"T_c32f4_row9_col6\" class=\"data row9 col6\" >0.106000</td>\n",
       "      <td id=\"T_c32f4_row9_col7\" class=\"data row9 col7\" >0.875000</td>\n",
       "      <td id=\"T_c32f4_row9_col8\" class=\"data row9 col8\" >0.056000</td>\n",
       "      <td id=\"T_c32f4_row9_col9\" class=\"data row9 col9\" >0.869000</td>\n",
       "      <td id=\"T_c32f4_row9_col10\" class=\"data row9 col10\" >0.077000</td>\n",
       "      <td id=\"T_c32f4_row9_col11\" class=\"data row9 col11\" >0.865000</td>\n",
       "      <td id=\"T_c32f4_row9_col12\" class=\"data row9 col12\" >0.086000</td>\n",
       "    </tr>\n",
       "  </tbody>\n",
       "</table>\n"
      ],
      "text/plain": [
       "<pandas.io.formats.style.Styler at 0x7f81b172aca0>"
      ]
     },
     "execution_count": 122,
     "metadata": {},
     "output_type": "execute_result"
    }
   ],
   "source": [
    "result.style.apply(highlight_max)"
   ]
  },
  {
   "cell_type": "markdown",
   "metadata": {},
   "source": [
    "## 6. HYPERPARAMETER FINE TUNNING"
   ]
  },
  {
   "cell_type": "code",
   "execution_count": null,
   "metadata": {},
   "outputs": [],
   "source": [
    "X_train = pd.read_pickle(homepath + 'data/processed/X_train.pkl')\n",
    "X_val = pd.read_pickle(homepath + 'data/processed/X_val.pkl')\n",
    "y_train = pd.read_pickle(homepath + 'data/processed/y_train.pkl')\n",
    "y_val = pd.read_pickle(homepath + 'data/processed/y_val.pkl')"
   ]
  },
  {
   "cell_type": "code",
   "execution_count": null,
   "metadata": {},
   "outputs": [],
   "source": [
    "study_lgbm = optuna.create_study(direction = 'maximize', study_name = 'LGBM')\n",
    "func = lambda trial: objective_lgbm(trial, X_train, y_train)\n",
    "study_lgbm.optimize(func, n_trials = 70)"
   ]
  },
  {
   "cell_type": "code",
   "execution_count": null,
   "metadata": {},
   "outputs": [],
   "source": [
    "optuna.visualization.plot_optimization_history(study_lgbm)"
   ]
  },
  {
   "cell_type": "code",
   "execution_count": null,
   "metadata": {},
   "outputs": [],
   "source": [
    "optuna.visualization.plot_param_importances(study_lgbm)"
   ]
  },
  {
   "cell_type": "code",
   "execution_count": null,
   "metadata": {},
   "outputs": [],
   "source": [
    "print(f\"\\tBest value (log loss): {study_lgbm.best_value}\")\n",
    "print(f\"\\tBest params:\")\n",
    "\n",
    "for key, value in study_lgbm.best_params.items():\n",
    "    print(f\"\\t\\t{key}: {value}\")"
   ]
  },
  {
   "cell_type": "code",
   "execution_count": null,
   "metadata": {},
   "outputs": [],
   "source": [
    "models_opt = [\n",
    "          LGBMClassifier(random_state = seed, n_jobs = -1),  \n",
    "          LGBMClassifier(random_state = seed, n_jobs = -1, n_estimators = 800, learning_rate = 0.1049362242276428, num_leaves = 600, max_depth = 8)\n",
    "         ]"
   ]
  },
  {
   "cell_type": "code",
   "execution_count": null,
   "metadata": {},
   "outputs": [],
   "source": [
    "result = metrics_result(models_opt, 'bank_account', X_train, y_train, X_val, y_val)"
   ]
  },
  {
   "cell_type": "code",
   "execution_count": null,
   "metadata": {},
   "outputs": [],
   "source": [
    "result"
   ]
  },
  {
   "cell_type": "code",
   "execution_count": null,
   "metadata": {},
   "outputs": [],
   "source": [
    "cv_result_opt = cross_validation(models_opt, 'bank_account', X_train, y_train)"
   ]
  },
  {
   "cell_type": "code",
   "execution_count": null,
   "metadata": {},
   "outputs": [],
   "source": [
    "cv_result_opt"
   ]
  },
  {
   "cell_type": "code",
   "execution_count": null,
   "metadata": {},
   "outputs": [],
   "source": []
  },
  {
   "cell_type": "code",
   "execution_count": null,
   "metadata": {},
   "outputs": [],
   "source": [
    "def data_preparation(data, cols_selected):\n",
    "    \"\"\"Return a dataframe with encoding, rescaling and drop\n",
    "    Args:\n",
    "        dataframe: [Dataframe without transformation]\n",
    "        cols_selected: [Column with dropped features]\n",
    "\n",
    "    Returns:\n",
    "        [DataFrame]: [Prepared Dataframe]\n",
    "    \"\"\"\n",
    "\n",
    "    #classificar relationship with head\n",
    "    data['provedor'] = data['relationship_with_head'].apply(lambda x: 1 if (x == 'Head of Household') or (x == 'Spouse') else 0)\n",
    "\n",
    "    # One Hot Encoding\n",
    "    data = pd.get_dummies(data, prefix = ['idade'], columns = ['idade_categoria'])\n",
    "    \n",
    "    # Label Encoding\n",
    "    ohe = {'No': 0, 'Yes': 1}\n",
    "    gender_ohe = {'Male': 0, 'Female': 1}\n",
    "    location_ohe = {'Urban': 0, 'Rural': 1}\n",
    "\n",
    "    data['gender_of_respondent'] = data['gender_of_respondent'].map(gender_ohe)\n",
    "    data['cellphone_access'] = data['cellphone_access'].map(ohe)\n",
    "    data['bank_account'] = data['bank_account'].map(ohe)\n",
    "    data['location_type'] = data['location_type'].map(location_ohe)\n",
    "\n",
    "    # Frequency Encoding\n",
    "    fe_cols = ['country', 'relationship_with_head', 'marital_status', 'education_level', 'job_type']\n",
    "\n",
    "    for col in fe_cols:\n",
    "        fe_encoding = (data.groupby(col).size())/len(data)\n",
    "        data.loc[:, col] = data[col].map(fe_encoding)\n",
    "\n",
    "    # Min-Max Scaler\n",
    "    mms = MinMaxScaler()\n",
    "    min_max_scaler = ['age_of_respondent']\n",
    "\n",
    "    for col in min_max_scaler:\n",
    "        data[[col]] = mms.fit_transform(data[[col]].values)\n",
    "\n",
    "    # Columns\n",
    "    data = data[cols_selected]\n",
    "\n",
    "    return data"
   ]
  },
  {
   "cell_type": "code",
   "execution_count": null,
   "metadata": {},
   "outputs": [],
   "source": [
    "# concat\n",
    "df6 = pd.concat([x_train, x_val], ignore_index = True)\n",
    "cols_selected = ['country', 'age_of_respondent', 'job_type', 'education_level', 'marital_status', 'cellphone_access', 'household_size', 'relationship_with_head', 'gender_of_respondent', 'bank_account']\n",
    "df_final = data_preparation(df6, cols_selected)\n",
    "\n",
    "# split\n",
    "y_train_full = df_final['bank_account']\n",
    "X_train_full = df_final.drop(columns = ['bank_account'])\n",
    "\n",
    "# save pickle\n",
    "X_train_full.to_pickle(homepath + 'data/processed/X_train_full.pkl')\n",
    "y_train_full.to_pickle(homepath + 'data/processed/y_train_full.pkl')"
   ]
  },
  {
   "cell_type": "code",
   "execution_count": null,
   "metadata": {},
   "outputs": [],
   "source": [
    "X_train_full.info()"
   ]
  },
  {
   "cell_type": "code",
   "execution_count": null,
   "metadata": {},
   "outputs": [],
   "source": [
    "\tn_estimators: 1300\n",
    "\t\tlearning_rate: 0.25757053371903266\n",
    "\t\tnum_leaves: 2100\n",
    "\t\tmax_depth: 11"
   ]
  },
  {
   "cell_type": "code",
   "execution_count": null,
   "metadata": {},
   "outputs": [],
   "source": [
    "final_model = LGBMClassifier(random_state = seed, n_jobs = -1, n_estimators = 1300, num_leaves = 2100, max_depth = 11)\n",
    "final_model.fit(X_train, y_train)\n",
    "pickle.dump(final_model, open(homepath + '/models/hackday', 'wb'))"
   ]
  },
  {
   "cell_type": "code",
   "execution_count": null,
   "metadata": {},
   "outputs": [],
   "source": [
    "import scikitplot as skplt"
   ]
  },
  {
   "cell_type": "code",
   "execution_count": null,
   "metadata": {},
   "outputs": [],
   "source": [
    "y_hat = final_model.predict_proba(X_val)\n",
    "skplt.metrics.plot_ks_statistic(y_val, y_hat)"
   ]
  }
 ],
 "metadata": {
  "interpreter": {
   "hash": "cf2962f5d0154b715622a9fcf3f95504a768a64782d597a3868fc161d18d8e0f"
  },
  "kernelspec": {
   "display_name": "Python 3.9.9 64-bit ('hackdays')",
   "language": "python",
   "name": "python3"
  },
  "language_info": {
   "codemirror_mode": {
    "name": "ipython",
    "version": 3
   },
   "file_extension": ".py",
   "mimetype": "text/x-python",
   "name": "python",
   "nbconvert_exporter": "python",
   "pygments_lexer": "ipython3",
   "version": "3.9.9"
  },
  "orig_nbformat": 4
 },
 "nbformat": 4,
 "nbformat_minor": 2
}
